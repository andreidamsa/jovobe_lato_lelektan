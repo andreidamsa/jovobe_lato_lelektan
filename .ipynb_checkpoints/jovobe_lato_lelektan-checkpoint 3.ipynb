{
 "cells": [
  {
   "cell_type": "markdown",
   "metadata": {},
   "source": [
    "A kódsor a \"Jővőbe látó lélektan - gépi tanulás a pszichológiai kutatásmódszertanban\" című tudományos cikkben szereplő kutatáshoz tartozik, a kutatás lépéseit és a kapott eredményeket mutatja be.\n",
    "\n",
    "Készítette: Damsa Andrei, PTE-BTK Pszichológia Intézet, Alkalmazott Pszichológia Doktori Program\n",
    "\n",
    "Adatbázis eléretőség: \n",
    "\n",
    "- https://www.kaggle.com/miroslavsabo/young-people-survey"
   ]
  },
  {
   "cell_type": "markdown",
   "metadata": {
    "heading_collapsed": true
   },
   "source": [
    "# Modulok importálása"
   ]
  },
  {
   "cell_type": "code",
   "execution_count": 1,
   "metadata": {
    "code_folding": [
     0
    ],
    "hidden": true
   },
   "outputs": [
    {
     "name": "stdout",
     "output_type": "stream",
     "text": [
      "Python 3.7.6\r\n"
     ]
    }
   ],
   "source": [
    "# Python verzió\n",
    "\n",
    "!python -V"
   ]
  },
  {
   "cell_type": "code",
   "execution_count": 2,
   "metadata": {
    "code_folding": [],
    "hidden": true
   },
   "outputs": [],
   "source": [
    "# Alap modulok\n",
    "\n",
    "import pandas as pd\n",
    "import numpy as np\n",
    "\n",
    "# Vizualizáció\n",
    "\n",
    "import matplotlib.pyplot as plt\n",
    "\n",
    "# Normalitás vizsgálat\n",
    "\n",
    "from scipy.stats import shapiro\n",
    "\n",
    "# Mann-Whitney U\n",
    "\n",
    "from scipy.stats import mannwhitneyu\n",
    "\n",
    "# Gépi tanulás\n",
    "\n",
    "from sklearn.model_selection import train_test_split\n",
    "\n",
    "from sklearn.linear_model import LogisticRegression\n",
    "\n",
    "\n",
    "from sklearn.metrics import accuracy_score, confusion_matrix, matthews_corrcoef\n",
    "\n",
    "# WARNING Off\n",
    "\n",
    "import warnings\n",
    "warnings.simplefilter(\"ignore\")"
   ]
  },
  {
   "cell_type": "markdown",
   "metadata": {
    "heading_collapsed": true
   },
   "source": [
    "# Adatok beolvasása"
   ]
  },
  {
   "cell_type": "code",
   "execution_count": 3,
   "metadata": {
    "hidden": true
   },
   "outputs": [],
   "source": [
    "data = pd.read_csv('./data/responses.csv')"
   ]
  },
  {
   "cell_type": "markdown",
   "metadata": {},
   "source": [
    "# Filmpreferencia nemi különbségei"
   ]
  },
  {
   "cell_type": "markdown",
   "metadata": {},
   "source": [
    "## Adatok kiválasztása és előkészítése"
   ]
  },
  {
   "cell_type": "code",
   "execution_count": 22,
   "metadata": {
    "code_folding": []
   },
   "outputs": [],
   "source": [
    "# A filmpreferenciára és a nemre vonatkozó változók kiválasztása\n",
    "\n",
    "data_mov = data.iloc[:, 20:31]\n",
    "data_mov['Gender'] = data['Gender']"
   ]
  },
  {
   "cell_type": "code",
   "execution_count": 23,
   "metadata": {
    "code_folding": []
   },
   "outputs": [],
   "source": [
    "# Nemi változó átkódolása\n",
    "\n",
    "for i in range(0, len(data_mov)):\n",
    "    if data_mov['Gender'][i] == 'male':\n",
    "        data_mov['Gender'][i] = 1       \n",
    "    else:\n",
    "        data_mov['Gender'][i] = 0"
   ]
  },
  {
   "cell_type": "code",
   "execution_count": 24,
   "metadata": {
    "code_folding": [
     0
    ]
   },
   "outputs": [],
   "source": [
    "# Hiányzó értékekkel rendelkező sorok eltávolítása\n",
    "\n",
    "data_mov = data_mov.dropna()"
   ]
  },
  {
   "cell_type": "code",
   "execution_count": 25,
   "metadata": {
    "code_folding": [
     0
    ]
   },
   "outputs": [],
   "source": [
    "# Értéktípusok átkódolása\n",
    "\n",
    "for i in range(0, len(data_mov.columns)):\n",
    "    data_mov[data_mov.columns[i]] = data_mov[data_mov.columns[i]].astype('int')"
   ]
  },
  {
   "cell_type": "code",
   "execution_count": 26,
   "metadata": {
    "code_folding": [
     0
    ]
   },
   "outputs": [
    {
     "data": {
      "text/plain": [
       "0    0.595918\n",
       "1    0.404082\n",
       "Name: Gender, dtype: float64"
      ]
     },
     "execution_count": 26,
     "metadata": {},
     "output_type": "execute_result"
    }
   ],
   "source": [
    "# Nemi eloszlás kimutatása (1 - férfi, 0 - nő)\n",
    "\n",
    "data_mov['Gender'].value_counts(normalize = True)"
   ]
  },
  {
   "cell_type": "markdown",
   "metadata": {},
   "source": [
    "## Normalitás vizsgálat"
   ]
  },
  {
   "cell_type": "code",
   "execution_count": 27,
   "metadata": {
    "code_folding": [
     0
    ]
   },
   "outputs": [],
   "source": [
    "# Adatbázis előkészítése\n",
    "\n",
    "norm_test = pd.DataFrame()\n",
    "\n",
    "norm_test['Var'] = data_mov.columns[0:11]\n",
    "norm_test['Stat'] = range(0, 11)\n",
    "norm_test['Stat'] = norm_test['Stat'].astype('float')\n",
    "norm_test['p_value'] = range(0, 11)\n",
    "norm_test['p_value'] = norm_test['p_value'].astype('float')"
   ]
  },
  {
   "cell_type": "code",
   "execution_count": 28,
   "metadata": {
    "code_folding": [
     0
    ]
   },
   "outputs": [
    {
     "name": "stdout",
     "output_type": "stream",
     "text": [
      "Statistics=0.883, p=0.000\n",
      "Statistics=0.902, p=0.000\n",
      "Statistics=0.672, p=0.000\n",
      "Statistics=0.893, p=0.000\n",
      "Statistics=0.904, p=0.000\n",
      "Statistics=0.896, p=0.000\n",
      "Statistics=0.860, p=0.000\n",
      "Statistics=0.845, p=0.000\n",
      "Statistics=0.885, p=0.000\n",
      "Statistics=0.840, p=0.000\n",
      "Statistics=0.886, p=0.000\n"
     ]
    }
   ],
   "source": [
    "# Shapiro-Wilk teszt\n",
    "\n",
    "for i in range(0, len(data_mov.columns)-1):\n",
    "    stat, p = shapiro(data_mov.iloc[:, i])\n",
    "    print('Statistics=%.3f, p=%.3f' % (stat, p))\n",
    "    norm_test['Stat'][i] = stat\n",
    "    norm_test['p_value'][i] = p"
   ]
  },
  {
   "cell_type": "markdown",
   "metadata": {},
   "source": [
    "## Mann-Whitney U teszt"
   ]
  },
  {
   "cell_type": "code",
   "execution_count": 29,
   "metadata": {
    "code_folding": []
   },
   "outputs": [],
   "source": [
    "# Adatbázis nemi csoportok szerinti bontása\n",
    "\n",
    "data_mov_male = data_mov[data_mov['Gender'] == 1]\n",
    "data_mov_female = data_mov[data_mov['Gender'] == 0]"
   ]
  },
  {
   "cell_type": "code",
   "execution_count": 30,
   "metadata": {
    "code_folding": [
     0
    ]
   },
   "outputs": [],
   "source": [
    "# Adatbázis előkészítése\n",
    "\n",
    "MW_test = pd.DataFrame()\n",
    "\n",
    "MW_test['Var'] = data_mov.columns[0:11]\n",
    "MW_test['Stat'] = range(0, 11)\n",
    "MW_test['Stat'] = MW_test['Stat'].astype('float')\n",
    "MW_test['p_value'] = range(0, 11)\n",
    "MW_test['p_value'] = MW_test['p_value'].astype('float')\n",
    "MW_test['Hyp'] = range(0, 11)"
   ]
  },
  {
   "cell_type": "code",
   "execution_count": 31,
   "metadata": {
    "code_folding": [
     0
    ]
   },
   "outputs": [
    {
     "name": "stdout",
     "output_type": "stream",
     "text": [
      "U érték = 93936.500, p = 0.000\n",
      "U érték = 90484.000, p = 0.000\n",
      "U érték = 113590.500, p = 0.290\n",
      "U érték = 57688.000, p = 0.000\n",
      "U érték = 73344.500, p = 0.000\n",
      "U érték = 59857.500, p = 0.000\n",
      "U érték = 77706.000, p = 0.000\n",
      "U érték = 89806.500, p = 0.000\n",
      "U érték = 99225.000, p = 0.000\n",
      "U érték = 68718.500, p = 0.000\n",
      "U érték = 60498.500, p = 0.000\n"
     ]
    }
   ],
   "source": [
    "# Mann-Whitney teszt\n",
    "\n",
    "for i in range(0, len(data_mov.columns)-1):\n",
    "    stat, p = mannwhitneyu(data_mov_male.iloc[:, i], data_mov_female.iloc[:, i])\n",
    "\n",
    "    print('U érték = %.3f, p = %.3f' % (stat, p))\n",
    "    MW_test['Stat'][i] = stat\n",
    "    MW_test['p_value'][i] = p"
   ]
  },
  {
   "cell_type": "code",
   "execution_count": 32,
   "metadata": {
    "code_folding": [
     0
    ]
   },
   "outputs": [
    {
     "data": {
      "text/html": [
       "<div>\n",
       "<style scoped>\n",
       "    .dataframe tbody tr th:only-of-type {\n",
       "        vertical-align: middle;\n",
       "    }\n",
       "\n",
       "    .dataframe tbody tr th {\n",
       "        vertical-align: top;\n",
       "    }\n",
       "\n",
       "    .dataframe thead th {\n",
       "        text-align: right;\n",
       "    }\n",
       "</style>\n",
       "<table border=\"1\" class=\"dataframe\">\n",
       "  <thead>\n",
       "    <tr style=\"text-align: right;\">\n",
       "      <th></th>\n",
       "      <th>Horror</th>\n",
       "      <th>Thriller</th>\n",
       "      <th>Comedy</th>\n",
       "      <th>Romantic</th>\n",
       "      <th>Sci-fi</th>\n",
       "      <th>War</th>\n",
       "      <th>Fantasy/Fairy tales</th>\n",
       "      <th>Animated</th>\n",
       "      <th>Documentary</th>\n",
       "      <th>Western</th>\n",
       "    </tr>\n",
       "    <tr>\n",
       "      <th>Gender</th>\n",
       "      <th></th>\n",
       "      <th></th>\n",
       "      <th></th>\n",
       "      <th></th>\n",
       "      <th></th>\n",
       "      <th></th>\n",
       "      <th></th>\n",
       "      <th></th>\n",
       "      <th></th>\n",
       "      <th></th>\n",
       "    </tr>\n",
       "  </thead>\n",
       "  <tbody>\n",
       "    <tr>\n",
       "      <th>0</th>\n",
       "      <td>2.602740</td>\n",
       "      <td>3.183219</td>\n",
       "      <td>4.508562</td>\n",
       "      <td>3.929795</td>\n",
       "      <td>2.768836</td>\n",
       "      <td>2.678082</td>\n",
       "      <td>4.029110</td>\n",
       "      <td>3.970890</td>\n",
       "      <td>3.527397</td>\n",
       "      <td>1.785959</td>\n",
       "    </tr>\n",
       "    <tr>\n",
       "      <th>1</th>\n",
       "      <td>3.063131</td>\n",
       "      <td>3.656566</td>\n",
       "      <td>4.484848</td>\n",
       "      <td>2.848485</td>\n",
       "      <td>3.618687</td>\n",
       "      <td>3.830808</td>\n",
       "      <td>3.340909</td>\n",
       "      <td>3.502525</td>\n",
       "      <td>3.815657</td>\n",
       "      <td>2.626263</td>\n",
       "    </tr>\n",
       "  </tbody>\n",
       "</table>\n",
       "</div>"
      ],
      "text/plain": [
       "          Horror  Thriller    Comedy  Romantic    Sci-fi       War  \\\n",
       "Gender                                                               \n",
       "0       2.602740  3.183219  4.508562  3.929795  2.768836  2.678082   \n",
       "1       3.063131  3.656566  4.484848  2.848485  3.618687  3.830808   \n",
       "\n",
       "        Fantasy/Fairy tales  Animated  Documentary   Western  \n",
       "Gender                                                        \n",
       "0                  4.029110  3.970890     3.527397  1.785959  \n",
       "1                  3.340909  3.502525     3.815657  2.626263  "
      ]
     },
     "execution_count": 32,
     "metadata": {},
     "output_type": "execute_result"
    }
   ],
   "source": [
    "# Csoportátlagok a filmkategóriák mentén\n",
    "\n",
    "data_mov.iloc[:, 0:10].groupby(data_mov['Gender']).mean()"
   ]
  },
  {
   "cell_type": "markdown",
   "metadata": {},
   "source": [
    "## Gépi tanulás alkalmazása"
   ]
  },
  {
   "cell_type": "code",
   "execution_count": 33,
   "metadata": {
    "code_folding": [
     0
    ]
   },
   "outputs": [],
   "source": [
    "# Bemeneti és célváltozó leválasztása\n",
    "\n",
    "model_vars = data_mov.drop(columns = 'Gender')\n",
    "target = data_mov.iloc[:, -1]"
   ]
  },
  {
   "cell_type": "code",
   "execution_count": 34,
   "metadata": {
    "code_folding": [
     0
    ]
   },
   "outputs": [],
   "source": [
    "# Tanuló és tesztelő adatbázis felosztása 70%-30%-os arányban\n",
    "\n",
    "x_train, x_test, y_train, y_test = train_test_split(model_vars, target, test_size=0.3, random_state=1)"
   ]
  },
  {
   "cell_type": "code",
   "execution_count": 39,
   "metadata": {
    "code_folding": [
     0
    ]
   },
   "outputs": [
    {
     "name": "stdout",
     "output_type": "stream",
     "text": [
      "Confusion Matrix :\n",
      "[[136  39]\n",
      " [ 18 101]]\n",
      "Accuracy Score : 0.8061224489795918\n",
      "Matthews corcoef : 0.6151213957836308\n"
     ]
    }
   ],
   "source": [
    "# Logisztikus regresszió algoritmus\n",
    "\n",
    "predicted_var = y_train\n",
    "\n",
    "\n",
    "model = LogisticRegression(max_iter = 1000, class_weight = 'balanced')\n",
    "model.fit(x_train, predicted_var)\n",
    "\n",
    "predictions = model.predict(x_test)\n",
    "\n",
    "results = confusion_matrix(y_test, predictions)\n",
    "\n",
    "print('Confusion Matrix :')\n",
    "print(results) \n",
    "print('Accuracy Score :',accuracy_score(y_test, predictions))\n",
    "print('Matthews corcoef :', matthews_corrcoef(y_test, predictions))"
   ]
  },
  {
   "cell_type": "code",
   "execution_count": 21,
   "metadata": {
    "code_folding": [
     0
    ]
   },
   "outputs": [
    {
     "data": {
      "text/html": [
       "<div>\n",
       "<style scoped>\n",
       "    .dataframe tbody tr th:only-of-type {\n",
       "        vertical-align: middle;\n",
       "    }\n",
       "\n",
       "    .dataframe tbody tr th {\n",
       "        vertical-align: top;\n",
       "    }\n",
       "\n",
       "    .dataframe thead th {\n",
       "        text-align: right;\n",
       "    }\n",
       "</style>\n",
       "<table border=\"1\" class=\"dataframe\">\n",
       "  <thead>\n",
       "    <tr style=\"text-align: right;\">\n",
       "      <th></th>\n",
       "      <th>Súlyozási érték</th>\n",
       "      <th>Változó</th>\n",
       "    </tr>\n",
       "  </thead>\n",
       "  <tbody>\n",
       "    <tr>\n",
       "      <th>0</th>\n",
       "      <td>0.949503</td>\n",
       "      <td>Romantic</td>\n",
       "    </tr>\n",
       "    <tr>\n",
       "      <th>1</th>\n",
       "      <td>-0.577015</td>\n",
       "      <td>Action</td>\n",
       "    </tr>\n",
       "    <tr>\n",
       "      <th>2</th>\n",
       "      <td>-0.508307</td>\n",
       "      <td>War</td>\n",
       "    </tr>\n",
       "    <tr>\n",
       "      <th>3</th>\n",
       "      <td>-0.470438</td>\n",
       "      <td>Western</td>\n",
       "    </tr>\n",
       "    <tr>\n",
       "      <th>4</th>\n",
       "      <td>0.426077</td>\n",
       "      <td>Fantasy/Fairy tales</td>\n",
       "    </tr>\n",
       "    <tr>\n",
       "      <th>5</th>\n",
       "      <td>-0.398813</td>\n",
       "      <td>Comedy</td>\n",
       "    </tr>\n",
       "    <tr>\n",
       "      <th>6</th>\n",
       "      <td>-0.357736</td>\n",
       "      <td>Sci-fi</td>\n",
       "    </tr>\n",
       "    <tr>\n",
       "      <th>7</th>\n",
       "      <td>0.157893</td>\n",
       "      <td>Animated</td>\n",
       "    </tr>\n",
       "    <tr>\n",
       "      <th>8</th>\n",
       "      <td>0.101047</td>\n",
       "      <td>Thriller</td>\n",
       "    </tr>\n",
       "    <tr>\n",
       "      <th>9</th>\n",
       "      <td>0.062095</td>\n",
       "      <td>Documentary</td>\n",
       "    </tr>\n",
       "    <tr>\n",
       "      <th>10</th>\n",
       "      <td>-0.058544</td>\n",
       "      <td>Horror</td>\n",
       "    </tr>\n",
       "  </tbody>\n",
       "</table>\n",
       "</div>"
      ],
      "text/plain": [
       "    Súlyozási érték              Változó\n",
       "0          0.949503             Romantic\n",
       "1         -0.577015               Action\n",
       "2         -0.508307                  War\n",
       "3         -0.470438              Western\n",
       "4          0.426077  Fantasy/Fairy tales\n",
       "5         -0.398813               Comedy\n",
       "6         -0.357736               Sci-fi\n",
       "7          0.157893             Animated\n",
       "8          0.101047             Thriller\n",
       "9          0.062095          Documentary\n",
       "10        -0.058544               Horror"
      ]
     },
     "execution_count": 21,
     "metadata": {},
     "output_type": "execute_result"
    }
   ],
   "source": [
    "# Bemeneti változók súlyozása az algoritmus által megítélt fontosság szerint\n",
    "\n",
    "feature_sel = pd.DataFrame(sorted(zip(model.coef_[0], x_train.columns), key=lambda x: abs(x[0]), reverse=True)[:])\n",
    "feature_sel.columns = ['Súlyozási érték', 'Változó']\n",
    "feature_sel"
   ]
  },
  {
   "cell_type": "code",
   "execution_count": null,
   "metadata": {},
   "outputs": [],
   "source": []
  }
 ],
 "metadata": {
  "kernelspec": {
   "display_name": "Python 3",
   "language": "python",
   "name": "python3"
  },
  "language_info": {
   "codemirror_mode": {
    "name": "ipython",
    "version": 3
   },
   "file_extension": ".py",
   "mimetype": "text/x-python",
   "name": "python",
   "nbconvert_exporter": "python",
   "pygments_lexer": "ipython3",
   "version": "3.8.8"
  },
  "toc": {
   "base_numbering": 1,
   "nav_menu": {},
   "number_sections": true,
   "sideBar": true,
   "skip_h1_title": false,
   "title_cell": "Table of Contents",
   "title_sidebar": "Contents",
   "toc_cell": false,
   "toc_position": {},
   "toc_section_display": true,
   "toc_window_display": false
  }
 },
 "nbformat": 4,
 "nbformat_minor": 4
}
