{
 "cells": [
  {
   "cell_type": "markdown",
   "metadata": {},
   "source": [
    "# Jövőbe látó lélektan - Gépi tanulás a pszichológiai kutatásmódszertanban"
   ]
  },
  {
   "cell_type": "markdown",
   "metadata": {},
   "source": [
    "A kódsor a \"Jővőbe látó lélektan - gépi tanulás a pszichológiai kutatásmódszertanban\" című tudományos cikkben szereplő kutatáshoz tartozik, a kutatás lépéseit és a kapott eredményeket mutatja be.\n",
    "\n",
    "Készítette: \n",
    "- Damsa Andrei, PTE-BTK Pszichológia Intézet, Alkalmazott Pszichológia Doktori Program (https://github.com/andreidamsa)\n",
    "- Tulics Miklós Gábriel PhD., Data Scientist, BME-TMIT, Amadix (https://github.com/tulicsgabriel)\n",
    "\n",
    "Adatbázis eléretőség: \n",
    "\n",
    "- https://www.kaggle.com/miroslavsabo/young-people-survey\n",
    "\n",
    "Kiegészítő modulok:\n",
    "\n",
    "- https://github.com/tulicsgabriel/Helper-Modules"
   ]
  },
  {
   "cell_type": "markdown",
   "metadata": {},
   "source": [
    "# Modulok importálása"
   ]
  },
  {
   "cell_type": "code",
   "execution_count": 1,
   "metadata": {
    "code_folding": [
     0
    ]
   },
   "outputs": [
    {
     "name": "stdout",
     "output_type": "stream",
     "text": [
      "Python 3.8.8\r\n"
     ]
    }
   ],
   "source": [
    "# Python verzió\n",
    "\n",
    "!python -V"
   ]
  },
  {
   "cell_type": "code",
   "execution_count": 2,
   "metadata": {
    "code_folding": []
   },
   "outputs": [],
   "source": [
    "# Alap modulok\n",
    "\n",
    "import pandas as pd\n",
    "import numpy as np\n",
    "\n",
    "# Vizualizáció\n",
    "\n",
    "import matplotlib.pyplot as plt\n",
    "\n",
    "# Normalitás vizsgálat\n",
    "\n",
    "from scipy.stats import shapiro, norm\n",
    "\n",
    "# Mann-Whitney U\n",
    "\n",
    "from scipy.stats import mannwhitneyu\n",
    "\n",
    "# Gépi tanulás\n",
    "\n",
    "from sklearn.model_selection import train_test_split\n",
    "from sklearn.linear_model import LogisticRegression\n",
    "from sklearn.neighbors import KNeighborsClassifier\n",
    "from sklearn.linear_model import LinearRegression\n",
    "from sklearn.metrics import accuracy_score, confusion_matrix, matthews_corrcoef, roc_curve, roc_auc_score\n",
    "\n",
    "# WARNING Off\n",
    "\n",
    "import warnings\n",
    "warnings.simplefilter(\"ignore\")"
   ]
  },
  {
   "cell_type": "markdown",
   "metadata": {},
   "source": [
    "# Adatok beolvasása"
   ]
  },
  {
   "cell_type": "code",
   "execution_count": 3,
   "metadata": {},
   "outputs": [],
   "source": [
    "data = pd.read_csv('./data/responses.csv')"
   ]
  },
  {
   "cell_type": "markdown",
   "metadata": {},
   "source": [
    "# Filmpreferencia nemi különbségei"
   ]
  },
  {
   "cell_type": "markdown",
   "metadata": {},
   "source": [
    "## Adatok kiválasztása és előkészítése"
   ]
  },
  {
   "cell_type": "code",
   "execution_count": 4,
   "metadata": {
    "code_folding": []
   },
   "outputs": [],
   "source": [
    "# A filmpreferenciára és a nemre vonatkozó változók kiválasztása\n",
    "\n",
    "data_mov = data.iloc[:, 20:31]\n",
    "data_mov['Gender'] = data['Gender']"
   ]
  },
  {
   "cell_type": "code",
   "execution_count": 5,
   "metadata": {
    "code_folding": []
   },
   "outputs": [],
   "source": [
    "# Nemi változó átkódolása\n",
    "\n",
    "for i in range(0, len(data_mov)):\n",
    "    if data_mov['Gender'][i] == 'male':\n",
    "        data_mov['Gender'][i] = 1       \n",
    "    else:\n",
    "        data_mov['Gender'][i] = 0"
   ]
  },
  {
   "cell_type": "code",
   "execution_count": 7,
   "metadata": {},
   "outputs": [
    {
     "data": {
      "text/plain": [
       "0.032673267326732675"
      ]
     },
     "execution_count": 7,
     "metadata": {},
     "output_type": "execute_result"
    }
   ],
   "source": [
    "# Hiányzó értékek %-os aránya\n",
    "\n",
    "data_mov.isna().sum().sum()/len(data_mov)"
   ]
  },
  {
   "cell_type": "code",
   "execution_count": 9,
   "metadata": {
    "code_folding": []
   },
   "outputs": [
    {
     "data": {
      "text/plain": [
       "980"
      ]
     },
     "execution_count": 9,
     "metadata": {},
     "output_type": "execute_result"
    }
   ],
   "source": [
    "# Hiányzó értékekkel rendelkező sorok eltávolítása\n",
    "\n",
    "data_mov = data_mov.dropna()\n",
    "\n",
    "len(data_mov)"
   ]
  },
  {
   "cell_type": "code",
   "execution_count": 10,
   "metadata": {
    "code_folding": [
     0
    ]
   },
   "outputs": [],
   "source": [
    "# Értéktípusok átkódolása\n",
    "\n",
    "for i in range(0, len(data_mov.columns)):\n",
    "    data_mov[data_mov.columns[i]] = data_mov[data_mov.columns[i]].astype('int')"
   ]
  },
  {
   "cell_type": "code",
   "execution_count": 11,
   "metadata": {
    "code_folding": [
     0
    ]
   },
   "outputs": [
    {
     "data": {
      "text/plain": [
       "0    0.595918\n",
       "1    0.404082\n",
       "Name: Gender, dtype: float64"
      ]
     },
     "execution_count": 11,
     "metadata": {},
     "output_type": "execute_result"
    }
   ],
   "source": [
    "# Nemi eloszlás kimutatása (1 - férfi, 0 - nő)\n",
    "\n",
    "data_mov['Gender'].value_counts(normalize = True)"
   ]
  },
  {
   "cell_type": "markdown",
   "metadata": {},
   "source": [
    "## Normalitás vizsgálat"
   ]
  },
  {
   "cell_type": "code",
   "execution_count": 12,
   "metadata": {
    "code_folding": [
     0
    ]
   },
   "outputs": [],
   "source": [
    "# Adatbázis előkészítése\n",
    "\n",
    "norm_test = pd.DataFrame()\n",
    "\n",
    "norm_test['Var'] = data_mov.columns[0:11]\n",
    "norm_test['Stat'] = range(0, 11)\n",
    "norm_test['Stat'] = norm_test['Stat'].astype('float')\n",
    "norm_test['p_value'] = range(0, 11)\n",
    "norm_test['p_value'] = norm_test['p_value'].astype('float')"
   ]
  },
  {
   "cell_type": "code",
   "execution_count": 13,
   "metadata": {
    "code_folding": [
     0
    ]
   },
   "outputs": [
    {
     "name": "stdout",
     "output_type": "stream",
     "text": [
      "Statistics=0.883, p=0.000\n",
      "Statistics=0.902, p=0.000\n",
      "Statistics=0.672, p=0.000\n",
      "Statistics=0.893, p=0.000\n",
      "Statistics=0.904, p=0.000\n",
      "Statistics=0.896, p=0.000\n",
      "Statistics=0.860, p=0.000\n",
      "Statistics=0.845, p=0.000\n",
      "Statistics=0.885, p=0.000\n",
      "Statistics=0.840, p=0.000\n",
      "Statistics=0.886, p=0.000\n"
     ]
    }
   ],
   "source": [
    "# Shapiro-Wilk teszt\n",
    "\n",
    "for i in range(0, len(data_mov.columns)-1):\n",
    "    stat, p = shapiro(data_mov.iloc[:, i])\n",
    "    print('Statistics=%.3f, p=%.3f' % (stat, p))\n",
    "    norm_test['Stat'][i] = stat\n",
    "    norm_test['p_value'][i] = p"
   ]
  },
  {
   "cell_type": "markdown",
   "metadata": {},
   "source": [
    "## Mann-Whitney U teszt"
   ]
  },
  {
   "cell_type": "code",
   "execution_count": 14,
   "metadata": {
    "code_folding": []
   },
   "outputs": [],
   "source": [
    "# Adatbázis nemi csoportok szerinti bontása\n",
    "\n",
    "data_mov_male = data_mov[data_mov['Gender'] == 1]\n",
    "data_mov_female = data_mov[data_mov['Gender'] == 0]"
   ]
  },
  {
   "cell_type": "code",
   "execution_count": 15,
   "metadata": {
    "code_folding": [
     0
    ]
   },
   "outputs": [],
   "source": [
    "# Adatbázis előkészítése\n",
    "\n",
    "MW_test = pd.DataFrame()\n",
    "\n",
    "MW_test['Var'] = data_mov.columns[0:11]\n",
    "MW_test['Stat'] = range(0, 11)\n",
    "MW_test['Stat'] = MW_test['Stat'].astype('float')\n",
    "MW_test['p_value'] = range(0, 11)\n",
    "MW_test['p_value'] = MW_test['p_value'].astype('float')\n",
    "MW_test['Hyp'] = range(0, 11)"
   ]
  },
  {
   "cell_type": "code",
   "execution_count": 16,
   "metadata": {
    "code_folding": [
     0
    ]
   },
   "outputs": [
    {
     "name": "stdout",
     "output_type": "stream",
     "text": [
      "U érték = 93936.500, p = 0.000\n",
      "U érték = 90484.000, p = 0.000\n",
      "U érték = 113590.500, p = 0.290\n",
      "U érték = 57688.000, p = 0.000\n",
      "U érték = 73344.500, p = 0.000\n",
      "U érték = 59857.500, p = 0.000\n",
      "U érték = 77706.000, p = 0.000\n",
      "U érték = 89806.500, p = 0.000\n",
      "U érték = 99225.000, p = 0.000\n",
      "U érték = 68718.500, p = 0.000\n",
      "U érték = 60498.500, p = 0.000\n"
     ]
    }
   ],
   "source": [
    "# Mann-Whitney teszt\n",
    "\n",
    "for i in range(0, len(data_mov.columns)-1):\n",
    "    stat, p = mannwhitneyu(data_mov_male.iloc[:, i], data_mov_female.iloc[:, i])\n",
    "\n",
    "    print('U érték = %.3f, p = %.3f' % (stat, p))\n",
    "    MW_test['Stat'][i] = stat\n",
    "    MW_test['p_value'][i] = p"
   ]
  },
  {
   "cell_type": "code",
   "execution_count": 17,
   "metadata": {
    "code_folding": [
     0
    ]
   },
   "outputs": [
    {
     "data": {
      "text/html": [
       "<div>\n",
       "<style scoped>\n",
       "    .dataframe tbody tr th:only-of-type {\n",
       "        vertical-align: middle;\n",
       "    }\n",
       "\n",
       "    .dataframe tbody tr th {\n",
       "        vertical-align: top;\n",
       "    }\n",
       "\n",
       "    .dataframe thead th {\n",
       "        text-align: right;\n",
       "    }\n",
       "</style>\n",
       "<table border=\"1\" class=\"dataframe\">\n",
       "  <thead>\n",
       "    <tr style=\"text-align: right;\">\n",
       "      <th></th>\n",
       "      <th>Horror</th>\n",
       "      <th>Thriller</th>\n",
       "      <th>Comedy</th>\n",
       "      <th>Romantic</th>\n",
       "      <th>Sci-fi</th>\n",
       "      <th>War</th>\n",
       "      <th>Fantasy/Fairy tales</th>\n",
       "      <th>Animated</th>\n",
       "      <th>Documentary</th>\n",
       "      <th>Western</th>\n",
       "      <th>Action</th>\n",
       "    </tr>\n",
       "    <tr>\n",
       "      <th>Gender</th>\n",
       "      <th></th>\n",
       "      <th></th>\n",
       "      <th></th>\n",
       "      <th></th>\n",
       "      <th></th>\n",
       "      <th></th>\n",
       "      <th></th>\n",
       "      <th></th>\n",
       "      <th></th>\n",
       "      <th></th>\n",
       "      <th></th>\n",
       "    </tr>\n",
       "  </thead>\n",
       "  <tbody>\n",
       "    <tr>\n",
       "      <th>0</th>\n",
       "      <td>2.602740</td>\n",
       "      <td>3.183219</td>\n",
       "      <td>4.508562</td>\n",
       "      <td>3.929795</td>\n",
       "      <td>2.768836</td>\n",
       "      <td>2.678082</td>\n",
       "      <td>4.029110</td>\n",
       "      <td>3.970890</td>\n",
       "      <td>3.527397</td>\n",
       "      <td>1.785959</td>\n",
       "      <td>3.104452</td>\n",
       "    </tr>\n",
       "    <tr>\n",
       "      <th>1</th>\n",
       "      <td>3.063131</td>\n",
       "      <td>3.656566</td>\n",
       "      <td>4.484848</td>\n",
       "      <td>2.848485</td>\n",
       "      <td>3.618687</td>\n",
       "      <td>3.830808</td>\n",
       "      <td>3.340909</td>\n",
       "      <td>3.502525</td>\n",
       "      <td>3.815657</td>\n",
       "      <td>2.626263</td>\n",
       "      <td>4.143939</td>\n",
       "    </tr>\n",
       "  </tbody>\n",
       "</table>\n",
       "</div>"
      ],
      "text/plain": [
       "          Horror  Thriller    Comedy  Romantic    Sci-fi       War  \\\n",
       "Gender                                                               \n",
       "0       2.602740  3.183219  4.508562  3.929795  2.768836  2.678082   \n",
       "1       3.063131  3.656566  4.484848  2.848485  3.618687  3.830808   \n",
       "\n",
       "        Fantasy/Fairy tales  Animated  Documentary   Western    Action  \n",
       "Gender                                                                  \n",
       "0                  4.029110  3.970890     3.527397  1.785959  3.104452  \n",
       "1                  3.340909  3.502525     3.815657  2.626263  4.143939  "
      ]
     },
     "execution_count": 17,
     "metadata": {},
     "output_type": "execute_result"
    }
   ],
   "source": [
    "# Csoportátlagok a filmkategóriák mentén\n",
    "\n",
    "data_mov.iloc[:, 0:11].groupby(data_mov['Gender']).mean()"
   ]
  },
  {
   "cell_type": "markdown",
   "metadata": {},
   "source": [
    "## Gépi tanulás alkalmazása"
   ]
  },
  {
   "cell_type": "code",
   "execution_count": 18,
   "metadata": {
    "code_folding": [
     0
    ]
   },
   "outputs": [],
   "source": [
    "# Bemeneti és célváltozó leválasztása\n",
    "\n",
    "model_vars = data_mov.drop(columns = 'Gender')\n",
    "target = data_mov.iloc[:, -1]"
   ]
  },
  {
   "cell_type": "code",
   "execution_count": 22,
   "metadata": {
    "code_folding": []
   },
   "outputs": [
    {
     "name": "stdout",
     "output_type": "stream",
     "text": [
      "686\n",
      "294\n"
     ]
    }
   ],
   "source": [
    "# Tanuló és tesztelő adatbázis felosztása 70%-30%-os arányban\n",
    "\n",
    "X_train, X_test, y_train, y_test = train_test_split(model_vars, target, test_size=0.3, random_state=1)\n",
    "\n",
    "print(len(X_train))\n",
    "print(len(X_test))"
   ]
  },
  {
   "cell_type": "code",
   "execution_count": 24,
   "metadata": {},
   "outputs": [
    {
     "data": {
      "text/plain": [
       "0    175\n",
       "1    119\n",
       "Name: Gender, dtype: int64"
      ]
     },
     "execution_count": 24,
     "metadata": {},
     "output_type": "execute_result"
    }
   ],
   "source": [
    "y_test.value_counts()"
   ]
  },
  {
   "cell_type": "markdown",
   "metadata": {},
   "source": [
    "### Varianciainflációs tényező kiszámítása"
   ]
  },
  {
   "cell_type": "code",
   "execution_count": 30,
   "metadata": {
    "code_folding": [
     0
    ]
   },
   "outputs": [],
   "source": [
    "# Varianciainflációs tényező\n",
    "\n",
    "def calc_reg_return_vif(X, y):\n",
    "    \"\"\"\n",
    "    Hasznossági függvény a VIF kiszámításához. Kiszámítja a lineáris regresszió inverz R négyzetét.\n",
    "    \n",
    "    Paraméterek\n",
    "    ----------\n",
    "    X : DataFrame\n",
    "        Input adatok.\n",
    "    y : Series\n",
    "        Célváltozó.\n",
    "    \n",
    "    Output érték\n",
    "    -------\n",
    "    vif : float\n",
    "        Kiszámolt VIF érték.\n",
    "    \"\"\"\n",
    "    X = X.values\n",
    "    y = y.values\n",
    "\n",
    "    if X.shape[1] == 1:\n",
    "        print(\"Megjegyzés: itt csak egy jellemző van.\")\n",
    "        X = X.reshape(-1, 1)\n",
    "    reg = LinearRegression().fit(X, y)\n",
    "    vif = 1 / (1 - reg.score(X, y))\n",
    "\n",
    "    return vif\n",
    "\n",
    "def calc_vif_from_scratch(df):\n",
    "    \"\"\"\n",
    "    A VIF kiszámítására való függvény\n",
    "    \n",
    "    Parameters\n",
    "    ----------\n",
    "    df : DataFrame\n",
    "        célváltozó nélküli dataframe\n",
    "    Returns\n",
    "    -------\n",
    "    vif : DataFrame\n",
    "        Jellemző - VIF párok visszaadása.\n",
    "    \"\"\"\n",
    "\n",
    "    vif = pd.DataFrame()\n",
    "\n",
    "    vif_list = []\n",
    "    for feature in list(df.columns):\n",
    "        y = df[feature]\n",
    "        X = df.drop(feature, axis=\"columns\")\n",
    "        vif_list.append(calc_reg_return_vif(X, y))\n",
    "    vif[\"Jellemző\"] = df.columns\n",
    "    vif[\"VIF\"] = vif_list\n",
    "    return vif"
   ]
  },
  {
   "cell_type": "code",
   "execution_count": 31,
   "metadata": {},
   "outputs": [
    {
     "data": {
      "text/html": [
       "<div>\n",
       "<style scoped>\n",
       "    .dataframe tbody tr th:only-of-type {\n",
       "        vertical-align: middle;\n",
       "    }\n",
       "\n",
       "    .dataframe tbody tr th {\n",
       "        vertical-align: top;\n",
       "    }\n",
       "\n",
       "    .dataframe thead th {\n",
       "        text-align: right;\n",
       "    }\n",
       "</style>\n",
       "<table border=\"1\" class=\"dataframe\">\n",
       "  <thead>\n",
       "    <tr style=\"text-align: right;\">\n",
       "      <th></th>\n",
       "      <th>Jellemző</th>\n",
       "      <th>VIF</th>\n",
       "    </tr>\n",
       "  </thead>\n",
       "  <tbody>\n",
       "    <tr>\n",
       "      <th>0</th>\n",
       "      <td>Horror</td>\n",
       "      <td>1.437631</td>\n",
       "    </tr>\n",
       "    <tr>\n",
       "      <th>1</th>\n",
       "      <td>Thriller</td>\n",
       "      <td>1.513842</td>\n",
       "    </tr>\n",
       "    <tr>\n",
       "      <th>2</th>\n",
       "      <td>Comedy</td>\n",
       "      <td>1.167274</td>\n",
       "    </tr>\n",
       "    <tr>\n",
       "      <th>3</th>\n",
       "      <td>Romantic</td>\n",
       "      <td>1.306686</td>\n",
       "    </tr>\n",
       "    <tr>\n",
       "      <th>4</th>\n",
       "      <td>Sci-fi</td>\n",
       "      <td>1.209484</td>\n",
       "    </tr>\n",
       "    <tr>\n",
       "      <th>5</th>\n",
       "      <td>War</td>\n",
       "      <td>1.345226</td>\n",
       "    </tr>\n",
       "    <tr>\n",
       "      <th>6</th>\n",
       "      <td>Fantasy/Fairy tales</td>\n",
       "      <td>2.080543</td>\n",
       "    </tr>\n",
       "    <tr>\n",
       "      <th>7</th>\n",
       "      <td>Animated</td>\n",
       "      <td>1.943369</td>\n",
       "    </tr>\n",
       "    <tr>\n",
       "      <th>8</th>\n",
       "      <td>Documentary</td>\n",
       "      <td>1.162296</td>\n",
       "    </tr>\n",
       "    <tr>\n",
       "      <th>9</th>\n",
       "      <td>Western</td>\n",
       "      <td>1.299484</td>\n",
       "    </tr>\n",
       "    <tr>\n",
       "      <th>10</th>\n",
       "      <td>Action</td>\n",
       "      <td>1.373803</td>\n",
       "    </tr>\n",
       "  </tbody>\n",
       "</table>\n",
       "</div>"
      ],
      "text/plain": [
       "               Jellemző       VIF\n",
       "0                Horror  1.437631\n",
       "1              Thriller  1.513842\n",
       "2                Comedy  1.167274\n",
       "3              Romantic  1.306686\n",
       "4                Sci-fi  1.209484\n",
       "5                   War  1.345226\n",
       "6   Fantasy/Fairy tales  2.080543\n",
       "7              Animated  1.943369\n",
       "8           Documentary  1.162296\n",
       "9               Western  1.299484\n",
       "10               Action  1.373803"
      ]
     },
     "execution_count": 31,
     "metadata": {},
     "output_type": "execute_result"
    }
   ],
   "source": [
    "vif = calc_vif_from_scratch(X_train)\n",
    "vif"
   ]
  },
  {
   "cell_type": "markdown",
   "metadata": {},
   "source": [
    "### Logisztikus regresszió alkalmazása"
   ]
  },
  {
   "cell_type": "code",
   "execution_count": 43,
   "metadata": {
    "code_folding": []
   },
   "outputs": [
    {
     "name": "stdout",
     "output_type": "stream",
     "text": [
      "Logistikus Regresszió\n",
      "Tévesztési mátrix:\n",
      "[[141  34]\n",
      " [ 26  93]]\n",
      "Pontosság: 0.7959183673469388\n",
      "MCC: 0.5818865836085587\n",
      "CPU times: user 53.8 ms, sys: 6.55 ms, total: 60.4 ms\n",
      "Wall time: 52.2 ms\n"
     ]
    }
   ],
   "source": [
    "%%time\n",
    "\n",
    "model = LogisticRegression(solver=\"newton-cg\", C=1, penalty=\"none\", max_iter=100000)\n",
    "model.fit(X_train, y_train)\n",
    "\n",
    "predictions = model.predict(X_test)\n",
    "mx = confusion_matrix(y_test, predictions)\n",
    "\n",
    "print(\"Logistikus Regresszió\")\n",
    "print('Tévesztési mátrix:')\n",
    "print(mx) \n",
    "print('Pontosság:', accuracy_score(y_test, predictions))\n",
    "print('MCC:', matthews_corrcoef(y_test, predictions))"
   ]
  },
  {
   "cell_type": "markdown",
   "metadata": {},
   "source": [
    "#### Bemeneti változók vizsgálata Logisztikus regresszióval"
   ]
  },
  {
   "cell_type": "code",
   "execution_count": 27,
   "metadata": {
    "code_folding": [
     0
    ]
   },
   "outputs": [
    {
     "data": {
      "text/html": [
       "<div>\n",
       "<style scoped>\n",
       "    .dataframe tbody tr th:only-of-type {\n",
       "        vertical-align: middle;\n",
       "    }\n",
       "\n",
       "    .dataframe tbody tr th {\n",
       "        vertical-align: top;\n",
       "    }\n",
       "\n",
       "    .dataframe thead th {\n",
       "        text-align: right;\n",
       "    }\n",
       "</style>\n",
       "<table border=\"1\" class=\"dataframe\">\n",
       "  <thead>\n",
       "    <tr style=\"text-align: right;\">\n",
       "      <th></th>\n",
       "      <th>Jellemző</th>\n",
       "      <th>Koefficiens</th>\n",
       "    </tr>\n",
       "  </thead>\n",
       "  <tbody>\n",
       "    <tr>\n",
       "      <th>0</th>\n",
       "      <td>Constant</td>\n",
       "      <td>-2.291</td>\n",
       "    </tr>\n",
       "    <tr>\n",
       "      <th>1</th>\n",
       "      <td>Horror</td>\n",
       "      <td>0.058</td>\n",
       "    </tr>\n",
       "    <tr>\n",
       "      <th>2</th>\n",
       "      <td>Thriller</td>\n",
       "      <td>-0.105</td>\n",
       "    </tr>\n",
       "    <tr>\n",
       "      <th>3</th>\n",
       "      <td>Comedy</td>\n",
       "      <td>0.413</td>\n",
       "    </tr>\n",
       "    <tr>\n",
       "      <th>4</th>\n",
       "      <td>Romantic</td>\n",
       "      <td>-0.966</td>\n",
       "    </tr>\n",
       "    <tr>\n",
       "      <th>5</th>\n",
       "      <td>Sci-fi</td>\n",
       "      <td>0.361</td>\n",
       "    </tr>\n",
       "    <tr>\n",
       "      <th>6</th>\n",
       "      <td>War</td>\n",
       "      <td>0.514</td>\n",
       "    </tr>\n",
       "    <tr>\n",
       "      <th>7</th>\n",
       "      <td>Fantasy/Fairy tales</td>\n",
       "      <td>-0.433</td>\n",
       "    </tr>\n",
       "    <tr>\n",
       "      <th>8</th>\n",
       "      <td>Animated</td>\n",
       "      <td>-0.157</td>\n",
       "    </tr>\n",
       "    <tr>\n",
       "      <th>9</th>\n",
       "      <td>Documentary</td>\n",
       "      <td>-0.066</td>\n",
       "    </tr>\n",
       "    <tr>\n",
       "      <th>10</th>\n",
       "      <td>Western</td>\n",
       "      <td>0.477</td>\n",
       "    </tr>\n",
       "    <tr>\n",
       "      <th>11</th>\n",
       "      <td>Action</td>\n",
       "      <td>0.584</td>\n",
       "    </tr>\n",
       "  </tbody>\n",
       "</table>\n",
       "</div>"
      ],
      "text/plain": [
       "               Jellemző  Koefficiens\n",
       "0              Constant       -2.291\n",
       "1                Horror        0.058\n",
       "2              Thriller       -0.105\n",
       "3                Comedy        0.413\n",
       "4              Romantic       -0.966\n",
       "5                Sci-fi        0.361\n",
       "6                   War        0.514\n",
       "7   Fantasy/Fairy tales       -0.433\n",
       "8              Animated       -0.157\n",
       "9           Documentary       -0.066\n",
       "10              Western        0.477\n",
       "11               Action        0.584"
      ]
     },
     "execution_count": 27,
     "metadata": {},
     "output_type": "execute_result"
    }
   ],
   "source": [
    "# Model koefficienseinek a vizsgálata\n",
    "\n",
    "cols = list(X_train.columns)\n",
    "cols.insert(0, \"Constant\")\n",
    "\n",
    "model_coefs = list(model.coef_[0])\n",
    "model_coefs.insert(0, model.intercept_[0])\n",
    "\n",
    "# Bemeneti változók és súlyuk a modellen belül\n",
    "\n",
    "feature_sel = pd.DataFrame(zip(cols, model_coefs))\n",
    "feature_sel.columns = ['Jellemző', 'Koefficiens']\n",
    "feature_sel.round(3)"
   ]
  },
  {
   "cell_type": "code",
   "execution_count": 28,
   "metadata": {
    "code_folding": [
     0
    ]
   },
   "outputs": [],
   "source": [
    "# p-értékek számolása\n",
    "\n",
    "def logit_pvalue(model, x):\n",
    "    \"\"\"\n",
    "    Logisztikus regressziós együttható p-értékek kiszámítása\n",
    "\n",
    "    Parameters\n",
    "    ----------\n",
    "    model : sklearn modell\n",
    "        LR modell.\n",
    "    x : array\n",
    "        mátrix, amelyre az együtthatókat és a p-értékeket ki akarod számítani.\n",
    "\n",
    "    Returns\n",
    "    -------\n",
    "    p1 : array\n",
    "        p-értékek.\n",
    "    \"\"\"\n",
    "\n",
    "    p1 = model.predict_proba(x)\n",
    "    n1 = len(p1)\n",
    "    m1 = len(model.coef_[0]) + 1\n",
    "    coefs = np.concatenate([model.intercept_, model.coef_[0]])\n",
    "    x_full = np.matrix(np.insert(np.array(x), 0, 1, axis=1))\n",
    "    answ = np.zeros((m1, m1))\n",
    "    for i in range(n1):\n",
    "        answ = (\n",
    "            answ\n",
    "            + np.dot(np.transpose(x_full[i, :]), x_full[i, :]) * p1[i, 1] * p1[i, 0]\n",
    "        )\n",
    "    vcov = np.linalg.inv(np.matrix(answ))\n",
    "    se = np.sqrt(np.diag(vcov))\n",
    "    t1 = coefs / se\n",
    "    p1 = (1 - norm.cdf(abs(t1))) * 2\n",
    "\n",
    "    return p1"
   ]
  },
  {
   "cell_type": "code",
   "execution_count": 29,
   "metadata": {
    "code_folding": [
     0
    ]
   },
   "outputs": [
    {
     "data": {
      "text/html": [
       "<div>\n",
       "<style scoped>\n",
       "    .dataframe tbody tr th:only-of-type {\n",
       "        vertical-align: middle;\n",
       "    }\n",
       "\n",
       "    .dataframe tbody tr th {\n",
       "        vertical-align: top;\n",
       "    }\n",
       "\n",
       "    .dataframe thead th {\n",
       "        text-align: right;\n",
       "    }\n",
       "</style>\n",
       "<table border=\"1\" class=\"dataframe\">\n",
       "  <thead>\n",
       "    <tr style=\"text-align: right;\">\n",
       "      <th></th>\n",
       "      <th>Jellemző</th>\n",
       "      <th>p-érték</th>\n",
       "    </tr>\n",
       "  </thead>\n",
       "  <tbody>\n",
       "    <tr>\n",
       "      <th>0</th>\n",
       "      <td>Constant</td>\n",
       "      <td>0.008</td>\n",
       "    </tr>\n",
       "    <tr>\n",
       "      <th>1</th>\n",
       "      <td>Horror</td>\n",
       "      <td>0.538</td>\n",
       "    </tr>\n",
       "    <tr>\n",
       "      <th>2</th>\n",
       "      <td>Thriller</td>\n",
       "      <td>0.352</td>\n",
       "    </tr>\n",
       "    <tr>\n",
       "      <th>3</th>\n",
       "      <td>Comedy</td>\n",
       "      <td>0.006</td>\n",
       "    </tr>\n",
       "    <tr>\n",
       "      <th>4</th>\n",
       "      <td>Romantic</td>\n",
       "      <td>0.000</td>\n",
       "    </tr>\n",
       "    <tr>\n",
       "      <th>5</th>\n",
       "      <td>Sci-fi</td>\n",
       "      <td>0.000</td>\n",
       "    </tr>\n",
       "    <tr>\n",
       "      <th>6</th>\n",
       "      <td>War</td>\n",
       "      <td>0.000</td>\n",
       "    </tr>\n",
       "    <tr>\n",
       "      <th>7</th>\n",
       "      <td>Fantasy/Fairy tales</td>\n",
       "      <td>0.001</td>\n",
       "    </tr>\n",
       "    <tr>\n",
       "      <th>8</th>\n",
       "      <td>Animated</td>\n",
       "      <td>0.199</td>\n",
       "    </tr>\n",
       "    <tr>\n",
       "      <th>9</th>\n",
       "      <td>Documentary</td>\n",
       "      <td>0.532</td>\n",
       "    </tr>\n",
       "    <tr>\n",
       "      <th>10</th>\n",
       "      <td>Western</td>\n",
       "      <td>0.000</td>\n",
       "    </tr>\n",
       "    <tr>\n",
       "      <th>11</th>\n",
       "      <td>Action</td>\n",
       "      <td>0.000</td>\n",
       "    </tr>\n",
       "  </tbody>\n",
       "</table>\n",
       "</div>"
      ],
      "text/plain": [
       "               Jellemző  p-érték\n",
       "0              Constant    0.008\n",
       "1                Horror    0.538\n",
       "2              Thriller    0.352\n",
       "3                Comedy    0.006\n",
       "4              Romantic    0.000\n",
       "5                Sci-fi    0.000\n",
       "6                   War    0.000\n",
       "7   Fantasy/Fairy tales    0.001\n",
       "8              Animated    0.199\n",
       "9           Documentary    0.532\n",
       "10              Western    0.000\n",
       "11               Action    0.000"
      ]
     },
     "execution_count": 29,
     "metadata": {},
     "output_type": "execute_result"
    }
   ],
   "source": [
    "# Koefficienseinek p-értékének a vizsgálata\n",
    "\n",
    "pvalues = list(logit_pvalue(model, X_train))\n",
    "feature_sel = pd.DataFrame(zip(cols, pvalues))\n",
    "feature_sel.columns = ['Jellemző', 'p-érték']\n",
    "feature_sel.round(3)"
   ]
  },
  {
   "cell_type": "markdown",
   "metadata": {},
   "source": [
    "### K legközelebbi szomszéd alkalmazása"
   ]
  },
  {
   "cell_type": "code",
   "execution_count": 44,
   "metadata": {},
   "outputs": [
    {
     "name": "stdout",
     "output_type": "stream",
     "text": [
      "KNN\n",
      "Tévesztési mátrix:\n",
      "[[141  34]\n",
      " [ 26  93]]\n",
      "Pontosság: 0.7959183673469388\n",
      "MCC: 0.5818865836085587\n",
      "CPU times: user 13.4 ms, sys: 4.54 ms, total: 17.9 ms\n",
      "Wall time: 17.6 ms\n"
     ]
    }
   ],
   "source": [
    "%%time\n",
    "knn = KNeighborsClassifier(n_neighbors=5)\n",
    "knn.fit(X_train, y_train)\n",
    "\n",
    "knn_predictions = model.predict(X_test)\n",
    "mx = confusion_matrix(y_test, knn_predictions)\n",
    "\n",
    "print(\"KNN\")\n",
    "print('Tévesztési mátrix:')\n",
    "print(mx) \n",
    "print('Pontosság:', accuracy_score(y_test, knn_predictions))\n",
    "print('MCC:', matthews_corrcoef(y_test, knn_predictions))"
   ]
  },
  {
   "cell_type": "code",
   "execution_count": 32,
   "metadata": {
    "code_folding": [
     0
    ]
   },
   "outputs": [
    {
     "data": {
      "image/png": "[encoded data removed]",
      "text/plain": [
       "<Figure size 1152x720 with 1 Axes>"
      ]
     },
     "metadata": {
      "needs_background": "light"
     },
     "output_type": "display_data"
    }
   ],
   "source": [
    "# AUC érték és ROC görbe kiszámítása\n",
    "\n",
    "plt.figure(figsize=(16, 10))\n",
    "\n",
    "font = {'family' : 'serif',\n",
    "        'size'   : 16}\n",
    "\n",
    "plt.rc('font', **font)\n",
    "\n",
    "def plot_roc_curve(fpr, tpr, auc):\n",
    "    specificity = 1-fpr\n",
    "    plt.plot(specificity, tpr, color='orange', label = 'AUC = %0.2f' % auc)\n",
    "    plt.plot([0, 1], [1, 0], color='darkblue', linestyle='--')\n",
    "    \n",
    "    plt.xticks(np.arange(0, 1, 0.1))\n",
    "    plt.yticks(np.arange(0, 1, 0.1))\n",
    "    \n",
    "    plt.xlabel('Specificitás') # False Positive Rate\n",
    "    plt.xlim([1, 0])\n",
    "    plt.ylabel('Érzékenység') # True Positive Rate\n",
    "    plt.title('Receiver Operating Characteristic (ROC) görbe')\n",
    "    plt.legend()\n",
    "    plt.show()\n",
    "\n",
    "# valószínűségek megjóslása\n",
    "y_pred_probs = model.predict_proba(X_test)\n",
    "# csak a pozitív kimenetelre vonatkozó valószínűségek megtartása\n",
    "y_pred_probs = y_pred_probs[:, 1]\n",
    "\n",
    "# auc kiszámítása\n",
    "auc = roc_auc_score(y_test, y_pred_probs)\n",
    "\n",
    "fpr, tpr, thresholds = roc_curve(y_test, y_pred_probs)\n",
    "plot_roc_curve(fpr, tpr, auc)"
   ]
  },
  {
   "cell_type": "code",
   "execution_count": 33,
   "metadata": {
    "code_folding": [
     0
    ]
   },
   "outputs": [
    {
     "data": {
      "text/html": [
       "<style  type=\"text/css\" >\n",
       "#T_3f9a1_row0_col2{\n",
       "            background-color:  #bdd7ec;\n",
       "            color:  #000000;\n",
       "        }#T_3f9a1_row1_col2{\n",
       "            background-color:  #60a7d2;\n",
       "            color:  #000000;\n",
       "        }#T_3f9a1_row2_col2{\n",
       "            background-color:  #2272b6;\n",
       "            color:  #f1f1f1;\n",
       "        }#T_3f9a1_row3_col2{\n",
       "            background-color:  #115ca5;\n",
       "            color:  #f1f1f1;\n",
       "        }#T_3f9a1_row4_col2,#T_3f9a1_row7_col2{\n",
       "            background-color:  #08488e;\n",
       "            color:  #f1f1f1;\n",
       "        }#T_3f9a1_row5_col2,#T_3f9a1_row10_col2{\n",
       "            background-color:  #084990;\n",
       "            color:  #f1f1f1;\n",
       "        }#T_3f9a1_row6_col2{\n",
       "            background-color:  #08326e;\n",
       "            color:  #f1f1f1;\n",
       "        }#T_3f9a1_row8_col2{\n",
       "            background-color:  #0f5aa3;\n",
       "            color:  #f1f1f1;\n",
       "        }#T_3f9a1_row9_col2{\n",
       "            background-color:  #0a549e;\n",
       "            color:  #f1f1f1;\n",
       "        }#T_3f9a1_row11_col2{\n",
       "            background-color:  #084d96;\n",
       "            color:  #f1f1f1;\n",
       "        }#T_3f9a1_row12_col2{\n",
       "            background-color:  #08306b;\n",
       "            color:  #f1f1f1;\n",
       "        }#T_3f9a1_row13_col2{\n",
       "            background-color:  #08519c;\n",
       "            color:  #f1f1f1;\n",
       "        }#T_3f9a1_row14_col2{\n",
       "            background-color:  #135fa7;\n",
       "            color:  #f1f1f1;\n",
       "        }#T_3f9a1_row15_col2{\n",
       "            background-color:  #4594c7;\n",
       "            color:  #000000;\n",
       "        }#T_3f9a1_row16_col2{\n",
       "            background-color:  #97c6df;\n",
       "            color:  #000000;\n",
       "        }#T_3f9a1_row17_col2{\n",
       "            background-color:  #f7fbff;\n",
       "            color:  #000000;\n",
       "        }</style><table id=\"T_3f9a1_\" ><thead>    <tr>        <th class=\"blank level0\" ></th>        <th class=\"col_heading level0 col0\" >Vágópont</th>        <th class=\"col_heading level0 col1\" >Pontosság</th>        <th class=\"col_heading level0 col2\" >MCC</th>        <th class=\"col_heading level0 col3\" >Érzékenység</th>        <th class=\"col_heading level0 col4\" >Specificitás</th>    </tr></thead><tbody>\n",
       "                <tr>\n",
       "                        <th id=\"T_3f9a1_level0_row0\" class=\"row_heading level0 row0\" >0</th>\n",
       "                        <td id=\"T_3f9a1_row0_col0\" class=\"data row0 col0\" >0.100000</td>\n",
       "                        <td id=\"T_3f9a1_row0_col1\" class=\"data row0 col1\" >0.636054</td>\n",
       "                        <td id=\"T_3f9a1_row0_col2\" class=\"data row0 col2\" >0.430353</td>\n",
       "                        <td id=\"T_3f9a1_row0_col3\" class=\"data row0 col3\" >0.974790</td>\n",
       "                        <td id=\"T_3f9a1_row0_col4\" class=\"data row0 col4\" >0.405714</td>\n",
       "            </tr>\n",
       "            <tr>\n",
       "                        <th id=\"T_3f9a1_level0_row1\" class=\"row_heading level0 row1\" >1</th>\n",
       "                        <td id=\"T_3f9a1_row1_col0\" class=\"data row1 col0\" >0.150000</td>\n",
       "                        <td id=\"T_3f9a1_row1_col1\" class=\"data row1 col1\" >0.704082</td>\n",
       "                        <td id=\"T_3f9a1_row1_col2\" class=\"data row1 col2\" >0.499134</td>\n",
       "                        <td id=\"T_3f9a1_row1_col3\" class=\"data row1 col3\" >0.941176</td>\n",
       "                        <td id=\"T_3f9a1_row1_col4\" class=\"data row1 col4\" >0.542857</td>\n",
       "            </tr>\n",
       "            <tr>\n",
       "                        <th id=\"T_3f9a1_level0_row2\" class=\"row_heading level0 row2\" >2</th>\n",
       "                        <td id=\"T_3f9a1_row2_col0\" class=\"data row2 col0\" >0.200000</td>\n",
       "                        <td id=\"T_3f9a1_row2_col1\" class=\"data row2 col1\" >0.744898</td>\n",
       "                        <td id=\"T_3f9a1_row2_col2\" class=\"data row2 col2\" >0.556697</td>\n",
       "                        <td id=\"T_3f9a1_row2_col3\" class=\"data row2 col3\" >0.941176</td>\n",
       "                        <td id=\"T_3f9a1_row2_col4\" class=\"data row2 col4\" >0.611429</td>\n",
       "            </tr>\n",
       "            <tr>\n",
       "                        <th id=\"T_3f9a1_level0_row3\" class=\"row_heading level0 row3\" >3</th>\n",
       "                        <td id=\"T_3f9a1_row3_col0\" class=\"data row3 col0\" >0.250000</td>\n",
       "                        <td id=\"T_3f9a1_row3_col1\" class=\"data row3 col1\" >0.768707</td>\n",
       "                        <td id=\"T_3f9a1_row3_col2\" class=\"data row3 col2\" >0.579222</td>\n",
       "                        <td id=\"T_3f9a1_row3_col3\" class=\"data row3 col3\" >0.915966</td>\n",
       "                        <td id=\"T_3f9a1_row3_col4\" class=\"data row3 col4\" >0.668571</td>\n",
       "            </tr>\n",
       "            <tr>\n",
       "                        <th id=\"T_3f9a1_level0_row4\" class=\"row_heading level0 row4\" >4</th>\n",
       "                        <td id=\"T_3f9a1_row4_col0\" class=\"data row4 col0\" >0.300000</td>\n",
       "                        <td id=\"T_3f9a1_row4_col1\" class=\"data row4 col1\" >0.789116</td>\n",
       "                        <td id=\"T_3f9a1_row4_col2\" class=\"data row4 col2\" >0.600464</td>\n",
       "                        <td id=\"T_3f9a1_row4_col3\" class=\"data row4 col3\" >0.890756</td>\n",
       "                        <td id=\"T_3f9a1_row4_col4\" class=\"data row4 col4\" >0.720000</td>\n",
       "            </tr>\n",
       "            <tr>\n",
       "                        <th id=\"T_3f9a1_level0_row5\" class=\"row_heading level0 row5\" >5</th>\n",
       "                        <td id=\"T_3f9a1_row5_col0\" class=\"data row5 col0\" >0.350000</td>\n",
       "                        <td id=\"T_3f9a1_row5_col1\" class=\"data row5 col1\" >0.792517</td>\n",
       "                        <td id=\"T_3f9a1_row5_col2\" class=\"data row5 col2\" >0.600029</td>\n",
       "                        <td id=\"T_3f9a1_row5_col3\" class=\"data row5 col3\" >0.873950</td>\n",
       "                        <td id=\"T_3f9a1_row5_col4\" class=\"data row5 col4\" >0.737143</td>\n",
       "            </tr>\n",
       "            <tr>\n",
       "                        <th id=\"T_3f9a1_level0_row6\" class=\"row_heading level0 row6\" >6</th>\n",
       "                        <td id=\"T_3f9a1_row6_col0\" class=\"data row6 col0\" >0.400000</td>\n",
       "                        <td id=\"T_3f9a1_row6_col1\" class=\"data row6 col1\" >0.809524</td>\n",
       "                        <td id=\"T_3f9a1_row6_col2\" class=\"data row6 col2\" >0.623192</td>\n",
       "                        <td id=\"T_3f9a1_row6_col3\" class=\"data row6 col3\" >0.857143</td>\n",
       "                        <td id=\"T_3f9a1_row6_col4\" class=\"data row6 col4\" >0.777143</td>\n",
       "            </tr>\n",
       "            <tr>\n",
       "                        <th id=\"T_3f9a1_level0_row7\" class=\"row_heading level0 row7\" >7</th>\n",
       "                        <td id=\"T_3f9a1_row7_col0\" class=\"data row7 col0\" >0.450000</td>\n",
       "                        <td id=\"T_3f9a1_row7_col1\" class=\"data row7 col1\" >0.802721</td>\n",
       "                        <td id=\"T_3f9a1_row7_col2\" class=\"data row7 col2\" >0.600986</td>\n",
       "                        <td id=\"T_3f9a1_row7_col3\" class=\"data row7 col3\" >0.815126</td>\n",
       "                        <td id=\"T_3f9a1_row7_col4\" class=\"data row7 col4\" >0.794286</td>\n",
       "            </tr>\n",
       "            <tr>\n",
       "                        <th id=\"T_3f9a1_level0_row8\" class=\"row_heading level0 row8\" >8</th>\n",
       "                        <td id=\"T_3f9a1_row8_col0\" class=\"data row8 col0\" >0.500000</td>\n",
       "                        <td id=\"T_3f9a1_row8_col1\" class=\"data row8 col1\" >0.795918</td>\n",
       "                        <td id=\"T_3f9a1_row8_col2\" class=\"data row8 col2\" >0.581887</td>\n",
       "                        <td id=\"T_3f9a1_row8_col3\" class=\"data row8 col3\" >0.781513</td>\n",
       "                        <td id=\"T_3f9a1_row8_col4\" class=\"data row8 col4\" >0.805714</td>\n",
       "            </tr>\n",
       "            <tr>\n",
       "                        <th id=\"T_3f9a1_level0_row9\" class=\"row_heading level0 row9\" >9</th>\n",
       "                        <td id=\"T_3f9a1_row9_col0\" class=\"data row9 col0\" >0.550000</td>\n",
       "                        <td id=\"T_3f9a1_row9_col1\" class=\"data row9 col1\" >0.802721</td>\n",
       "                        <td id=\"T_3f9a1_row9_col2\" class=\"data row9 col2\" >0.588612</td>\n",
       "                        <td id=\"T_3f9a1_row9_col3\" class=\"data row9 col3\" >0.739496</td>\n",
       "                        <td id=\"T_3f9a1_row9_col4\" class=\"data row9 col4\" >0.845714</td>\n",
       "            </tr>\n",
       "            <tr>\n",
       "                        <th id=\"T_3f9a1_level0_row10\" class=\"row_heading level0 row10\" >10</th>\n",
       "                        <td id=\"T_3f9a1_row10_col0\" class=\"data row10 col0\" >0.600000</td>\n",
       "                        <td id=\"T_3f9a1_row10_col1\" class=\"data row10 col1\" >0.809524</td>\n",
       "                        <td id=\"T_3f9a1_row10_col2\" class=\"data row10 col2\" >0.600174</td>\n",
       "                        <td id=\"T_3f9a1_row10_col3\" class=\"data row10 col3\" >0.705882</td>\n",
       "                        <td id=\"T_3f9a1_row10_col4\" class=\"data row10 col4\" >0.880000</td>\n",
       "            </tr>\n",
       "            <tr>\n",
       "                        <th id=\"T_3f9a1_level0_row11\" class=\"row_heading level0 row11\" >11</th>\n",
       "                        <td id=\"T_3f9a1_row11_col0\" class=\"data row11 col0\" >0.650000</td>\n",
       "                        <td id=\"T_3f9a1_row11_col1\" class=\"data row11 col1\" >0.806122</td>\n",
       "                        <td id=\"T_3f9a1_row11_col2\" class=\"data row11 col2\" >0.594977</td>\n",
       "                        <td id=\"T_3f9a1_row11_col3\" class=\"data row11 col3\" >0.638655</td>\n",
       "                        <td id=\"T_3f9a1_row11_col4\" class=\"data row11 col4\" >0.920000</td>\n",
       "            </tr>\n",
       "            <tr>\n",
       "                        <th id=\"T_3f9a1_level0_row12\" class=\"row_heading level0 row12\" >12</th>\n",
       "                        <td id=\"T_3f9a1_row12_col0\" class=\"data row12 col0\" >0.700000</td>\n",
       "                        <td id=\"T_3f9a1_row12_col1\" class=\"data row12 col1\" >0.816327</td>\n",
       "                        <td id=\"T_3f9a1_row12_col2\" class=\"data row12 col2\" >0.625663</td>\n",
       "                        <td id=\"T_3f9a1_row12_col3\" class=\"data row12 col3\" >0.605042</td>\n",
       "                        <td id=\"T_3f9a1_row12_col4\" class=\"data row12 col4\" >0.960000</td>\n",
       "            </tr>\n",
       "            <tr>\n",
       "                        <th id=\"T_3f9a1_level0_row13\" class=\"row_heading level0 row13\" >13</th>\n",
       "                        <td id=\"T_3f9a1_row13_col0\" class=\"data row13 col0\" >0.750000</td>\n",
       "                        <td id=\"T_3f9a1_row13_col1\" class=\"data row13 col1\" >0.799320</td>\n",
       "                        <td id=\"T_3f9a1_row13_col2\" class=\"data row13 col2\" >0.591545</td>\n",
       "                        <td id=\"T_3f9a1_row13_col3\" class=\"data row13 col3\" >0.563025</td>\n",
       "                        <td id=\"T_3f9a1_row13_col4\" class=\"data row13 col4\" >0.960000</td>\n",
       "            </tr>\n",
       "            <tr>\n",
       "                        <th id=\"T_3f9a1_level0_row14\" class=\"row_heading level0 row14\" >14</th>\n",
       "                        <td id=\"T_3f9a1_row14_col0\" class=\"data row14 col0\" >0.800000</td>\n",
       "                        <td id=\"T_3f9a1_row14_col1\" class=\"data row14 col1\" >0.789116</td>\n",
       "                        <td id=\"T_3f9a1_row14_col2\" class=\"data row14 col2\" >0.576226</td>\n",
       "                        <td id=\"T_3f9a1_row14_col3\" class=\"data row14 col3\" >0.521008</td>\n",
       "                        <td id=\"T_3f9a1_row14_col4\" class=\"data row14 col4\" >0.971429</td>\n",
       "            </tr>\n",
       "            <tr>\n",
       "                        <th id=\"T_3f9a1_level0_row15\" class=\"row_heading level0 row15\" >15</th>\n",
       "                        <td id=\"T_3f9a1_row15_col0\" class=\"data row15 col0\" >0.850000</td>\n",
       "                        <td id=\"T_3f9a1_row15_col1\" class=\"data row15 col1\" >0.761905</td>\n",
       "                        <td id=\"T_3f9a1_row15_col2\" class=\"data row15 col2\" >0.521118</td>\n",
       "                        <td id=\"T_3f9a1_row15_col3\" class=\"data row15 col3\" >0.453782</td>\n",
       "                        <td id=\"T_3f9a1_row15_col4\" class=\"data row15 col4\" >0.971429</td>\n",
       "            </tr>\n",
       "            <tr>\n",
       "                        <th id=\"T_3f9a1_level0_row16\" class=\"row_heading level0 row16\" >16</th>\n",
       "                        <td id=\"T_3f9a1_row16_col0\" class=\"data row16 col0\" >0.900000</td>\n",
       "                        <td id=\"T_3f9a1_row16_col1\" class=\"data row16 col1\" >0.731293</td>\n",
       "                        <td id=\"T_3f9a1_row16_col2\" class=\"data row16 col2\" >0.460678</td>\n",
       "                        <td id=\"T_3f9a1_row16_col3\" class=\"data row16 col3\" >0.369748</td>\n",
       "                        <td id=\"T_3f9a1_row16_col4\" class=\"data row16 col4\" >0.977143</td>\n",
       "            </tr>\n",
       "            <tr>\n",
       "                        <th id=\"T_3f9a1_level0_row17\" class=\"row_heading level0 row17\" >17</th>\n",
       "                        <td id=\"T_3f9a1_row17_col0\" class=\"data row17 col0\" >0.950000</td>\n",
       "                        <td id=\"T_3f9a1_row17_col1\" class=\"data row17 col1\" >0.680272</td>\n",
       "                        <td id=\"T_3f9a1_row17_col2\" class=\"data row17 col2\" >0.354684</td>\n",
       "                        <td id=\"T_3f9a1_row17_col3\" class=\"data row17 col3\" >0.226891</td>\n",
       "                        <td id=\"T_3f9a1_row17_col4\" class=\"data row17 col4\" >0.988571</td>\n",
       "            </tr>\n",
       "    </tbody></table>"
      ],
      "text/plain": [
       "<pandas.io.formats.style.Styler at 0x7faaa9642670>"
      ]
     },
     "execution_count": 33,
     "metadata": {},
     "output_type": "execute_result"
    }
   ],
   "source": [
    "# Vágópontok mentén a teljesítménymetrikák táblázatos formátumban való megjelenítése logisztikus regresszió esetében\n",
    "\n",
    "thresholds = np.arange(0.1, 1, 0.05)\n",
    "\n",
    "sensitivities = []\n",
    "specificities = []\n",
    "accuracies = []\n",
    "MCCs = []\n",
    "\n",
    "for threshold in thresholds:\n",
    "    pred_values_prob = model.predict_proba(X_test)[:, 1]\n",
    "    y_pred = np.array([1 if x >= threshold else 0 for x in pred_values_prob])\n",
    "    \n",
    "    tn, fp, fn, tp = confusion_matrix(y_test, y_pred).ravel()\n",
    "    acc = accuracy_score(y_test, y_pred)\n",
    "    mcc = matthews_corrcoef(y_test, y_pred)\n",
    "    \n",
    "    sensitivity = tp / (tp+fn)\n",
    "    specificity = tn / (tn+fp)\n",
    "    \n",
    "    accuracies.append(acc)\n",
    "    MCCs.append(mcc)\n",
    "    sensitivities.append(sensitivity)\n",
    "    specificities.append(specificity)\n",
    "\n",
    "threshold_df = pd.DataFrame(zip(thresholds, accuracies, MCCs, sensitivities, specificities))\n",
    "threshold_df.columns = ['Vágópont', 'Pontosság', 'MCC', 'Érzékenység', 'Specificitás']\n",
    "threshold_df.style.background_gradient(cmap ='Blues', subset='MCC')"
   ]
  },
  {
   "cell_type": "code",
   "execution_count": null,
   "metadata": {},
   "outputs": [],
   "source": []
  }
 ],
 "metadata": {
  "kernelspec": {
   "display_name": "Python 3",
   "language": "python",
   "name": "python3"
  },
  "language_info": {
   "codemirror_mode": {
    "name": "ipython",
    "version": 3
   },
   "file_extension": ".py",
   "mimetype": "text/x-python",
   "name": "python",
   "nbconvert_exporter": "python",
   "pygments_lexer": "ipython3",
   "version": "3.8.8"
  },
  "toc": {
   "base_numbering": 1,
   "nav_menu": {},
   "number_sections": true,
   "sideBar": true,
   "skip_h1_title": false,
   "title_cell": "Table of Contents",
   "title_sidebar": "Contents",
   "toc_cell": false,
   "toc_position": {},
   "toc_section_display": true,
   "toc_window_display": false
  }
 },
 "nbformat": 4,
 "nbformat_minor": 4
}
