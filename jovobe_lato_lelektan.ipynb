{
 "cells": [
  {
   "cell_type": "markdown",
   "metadata": {},
   "source": [
    "Adatbázis eléretőségek: \n",
    "\n",
    "- https://www.kaggle.com/miroslavsabo/young-people-survey\n",
    "- https://www.kaggle.com/datasnaek/mbti-type\n",
    "- https://www.kaggle.com/vitaliymalcev/personal-distance-in-42-countries\n",
    "- https://www.kaggle.com/lucasgreenwell/depression-anxiety-stress-scales-responses"
   ]
  },
  {
   "cell_type": "markdown",
   "metadata": {},
   "source": [
    "Stat háttér\n",
    "\n",
    "- https://www.statokos.com/nemparamteresprobak \n",
    "- https://machinelearningmastery.com/a-gentle-introduction-to-normality-tests-in-python/</br>"
   ]
  },
  {
   "cell_type": "markdown",
   "metadata": {},
   "source": [
    "Két fajta megközelítés:\n",
    "\n",
    "1. Hipotézisvizsgálat - Nonparametrikus próbával vizsgáljuk, hogy a változók mentén megmutatkozik-e különbség a nemi csoportok között\n",
    "\n",
    "2. Gépi tanulás - Gépi tanuló algoritmusokkal vizsgáljuk meg, hogy a nem, mint klasszifikációs cimke, meghatározható-e a magyarázó változók segítségével"
   ]
  },
  {
   "cell_type": "markdown",
   "metadata": {
    "heading_collapsed": true
   },
   "source": [
    "# Modulok importálása"
   ]
  },
  {
   "cell_type": "code",
   "execution_count": null,
   "metadata": {},
   "outputs": [],
   "source": [
    "!python -V"
   ]
  },
  {
   "cell_type": "code",
   "execution_count": 1,
   "metadata": {
    "code_folding": [
     0
    ],
    "hidden": true
   },
   "outputs": [],
   "source": [
    "# Modulok\n",
    "\n",
    "import pandas as pd\n",
    "import numpy as np\n",
    "\n",
    "#Vizualizáció\n",
    "\n",
    "import matplotlib.pyplot as plt\n",
    "\n",
    "# Normalitás vizsgálat\n",
    "\n",
    "from scipy.stats import shapiro\n",
    "from scipy.stats import zscore, boxcox\n",
    "\n",
    "# MANOVA\n",
    "\n",
    "from statsmodels.multivariate.manova import MANOVA\n",
    "\n",
    "# Mann-Whitney U\n",
    "\n",
    "from scipy.stats import mannwhitneyu\n",
    "\n",
    "# ML\n",
    "\n",
    "from sklearn.model_selection import train_test_split\n",
    "\n",
    "from sklearn.linear_model import LogisticRegression\n",
    "from sklearn.ensemble import RandomForestClassifier\n",
    "from sklearn.ensemble import GradientBoostingClassifier\n",
    "from sklearn import svm\n",
    "\n",
    "from sklearn.metrics import accuracy_score, confusion_matrix, recall_score, roc_curve, roc_auc_score, matthews_corrcoef, f1_score, precision_score\n",
    "\n",
    "# WARNING Off\n",
    "\n",
    "import warnings\n",
    "warnings.simplefilter(\"ignore\")"
   ]
  },
  {
   "cell_type": "markdown",
   "metadata": {
    "heading_collapsed": true
   },
   "source": [
    "# Adatok beolvasása"
   ]
  },
  {
   "cell_type": "code",
   "execution_count": 2,
   "metadata": {
    "hidden": true
   },
   "outputs": [],
   "source": [
    "data = pd.read_csv('./data/responses.csv')"
   ]
  },
  {
   "cell_type": "code",
   "execution_count": 111,
   "metadata": {},
   "outputs": [
    {
     "data": {
      "text/plain": [
       "1010"
      ]
     },
     "execution_count": 111,
     "metadata": {},
     "output_type": "execute_result"
    }
   ],
   "source": [
    "len(data)"
   ]
  },
  {
   "cell_type": "markdown",
   "metadata": {},
   "source": [
    "# Filmpreferencia nemi különbségei"
   ]
  },
  {
   "cell_type": "markdown",
   "metadata": {},
   "source": [
    "## Adatok kiválasztása és előkészítése"
   ]
  },
  {
   "cell_type": "code",
   "execution_count": 112,
   "metadata": {},
   "outputs": [],
   "source": [
    "data_mov = data.iloc[:, 20:31]\n",
    "data_mov['Gender'] = data['Gender']"
   ]
  },
  {
   "cell_type": "code",
   "execution_count": 113,
   "metadata": {
    "code_folding": [
     0
    ]
   },
   "outputs": [],
   "source": [
    "for i in range(0, len(data_mov)):\n",
    "    if data_mov['Gender'][i] == 'male':\n",
    "        data_mov['Gender'][i] = 1       \n",
    "    else:\n",
    "        data_mov['Gender'][i] = 2"
   ]
  },
  {
   "cell_type": "code",
   "execution_count": 27,
   "metadata": {},
   "outputs": [],
   "source": [
    "data_mov = data_mov.dropna()"
   ]
  },
  {
   "cell_type": "code",
   "execution_count": 28,
   "metadata": {
    "code_folding": [
     0
    ]
   },
   "outputs": [],
   "source": [
    "for i in range(0, len(data_mov.columns)):\n",
    "    data_mov[data_mov.columns[i]] = data_mov[data_mov.columns[i]].astype('int')"
   ]
  },
  {
   "cell_type": "code",
   "execution_count": 109,
   "metadata": {},
   "outputs": [
    {
     "data": {
      "text/plain": [
       "2    0.595918\n",
       "1    0.404082\n",
       "Name: Gender, dtype: float64"
      ]
     },
     "execution_count": 109,
     "metadata": {},
     "output_type": "execute_result"
    }
   ],
   "source": [
    "data_mov['Gender'].value_counts(normalize = True)"
   ]
  },
  {
   "cell_type": "markdown",
   "metadata": {},
   "source": [
    "## Normalitás vizsgálat"
   ]
  },
  {
   "cell_type": "code",
   "execution_count": 74,
   "metadata": {
    "code_folding": []
   },
   "outputs": [],
   "source": [
    "# Adatbázis előkészítése\n",
    "\n",
    "norm_test = pd.DataFrame()\n",
    "\n",
    "norm_test['Var'] = data_mov.columns[0:11]\n",
    "norm_test['Stat'] = range(0, 11)\n",
    "norm_test['Stat'] = norm_test['Stat'].astype('float')\n",
    "norm_test['p_value'] = range(0, 11)\n",
    "norm_test['p_value'] = norm_test['p_value'].astype('float')"
   ]
  },
  {
   "cell_type": "code",
   "execution_count": 76,
   "metadata": {
    "code_folding": [
     0
    ]
   },
   "outputs": [
    {
     "name": "stdout",
     "output_type": "stream",
     "text": [
      "Statistics=0.883, p=0.000\n",
      "Statistics=0.902, p=0.000\n",
      "Statistics=0.672, p=0.000\n",
      "Statistics=0.893, p=0.000\n",
      "Statistics=0.904, p=0.000\n",
      "Statistics=0.896, p=0.000\n",
      "Statistics=0.860, p=0.000\n",
      "Statistics=0.845, p=0.000\n",
      "Statistics=0.885, p=0.000\n",
      "Statistics=0.840, p=0.000\n",
      "Statistics=0.886, p=0.000\n",
      "Statistics=0.623, p=0.000\n"
     ]
    }
   ],
   "source": [
    "# Shapiro-Wilk teszt\n",
    "\n",
    "for i in range(0, len(data_mov.columns)):\n",
    "    stat, p = shapiro(data_mov.iloc[:, i])\n",
    "    print('Statistics=%.3f, p=%.3f' % (stat, p))\n",
    "    norm_test['Stat'][i] = stat\n",
    "    norm_test['p_value'][i] = p"
   ]
  },
  {
   "cell_type": "code",
   "execution_count": 78,
   "metadata": {},
   "outputs": [],
   "source": [
    "norm_test.to_excel('mov_norm_test.xlsx')"
   ]
  },
  {
   "cell_type": "markdown",
   "metadata": {},
   "source": [
    "## Mann-Whitney"
   ]
  },
  {
   "cell_type": "code",
   "execution_count": 80,
   "metadata": {},
   "outputs": [],
   "source": [
    "data_mov_male = data_mov[data_mov['Gender'] == 1]\n",
    "data_mov_female = data_mov[data_mov['Gender'] == 2]"
   ]
  },
  {
   "cell_type": "code",
   "execution_count": 96,
   "metadata": {
    "code_folding": []
   },
   "outputs": [],
   "source": [
    "# Adatbázis előkészítése\n",
    "\n",
    "MW_test = pd.DataFrame()\n",
    "\n",
    "MW_test['Var'] = data_mov.columns[0:11]\n",
    "MW_test['Stat'] = range(0, 11)\n",
    "MW_test['Stat'] = MW_test['Stat'].astype('float')\n",
    "MW_test['p_value'] = range(0, 11)\n",
    "MW_test['p_value'] = MW_test['p_value'].astype('float')\n",
    "MW_test['Hyp'] = range(0, 11)"
   ]
  },
  {
   "cell_type": "code",
   "execution_count": 97,
   "metadata": {},
   "outputs": [
    {
     "name": "stdout",
     "output_type": "stream",
     "text": [
      "Statistics=93936.500, p=0.000\n",
      "Statistics=90484.000, p=0.000\n",
      "Statistics=113590.500, p=0.290\n",
      "Statistics=57688.000, p=0.000\n",
      "Statistics=73344.500, p=0.000\n",
      "Statistics=59857.500, p=0.000\n",
      "Statistics=77706.000, p=0.000\n",
      "Statistics=89806.500, p=0.000\n",
      "Statistics=99225.000, p=0.000\n",
      "Statistics=68718.500, p=0.000\n",
      "Statistics=60498.500, p=0.000\n",
      "Statistics=0.000, p=0.000\n"
     ]
    }
   ],
   "source": [
    "# Mann-Whitney teszt\n",
    "\n",
    "for i in range(0, len(data_mov.columns)):\n",
    "    stat, p = mannwhitneyu(data_mov_male.iloc[:, i], data_mov_female.iloc[:, i])\n",
    "\n",
    "    print('Statistics=%.3f, p=%.3f' % (stat, p))\n",
    "    MW_test['Stat'][i] = stat\n",
    "    MW_test['p_value'][i] = p\n",
    "\n",
    "    # interpret\n",
    "    alpha = 0.05\n",
    "    if p > alpha:\n",
    "        MW_test['Hyp'][i] = \"nullhipotézis elfogadva\"\n",
    "    else:\n",
    "        MW_test['Hyp'][i] = \"alternatív hipotézis elfogadva\""
   ]
  },
  {
   "cell_type": "code",
   "execution_count": 99,
   "metadata": {},
   "outputs": [],
   "source": [
    "MW_test.to_excel('MW_test_eredmeny.xlsx')"
   ]
  },
  {
   "cell_type": "code",
   "execution_count": 104,
   "metadata": {},
   "outputs": [
    {
     "data": {
      "text/html": [
       "<div>\n",
       "<style scoped>\n",
       "    .dataframe tbody tr th:only-of-type {\n",
       "        vertical-align: middle;\n",
       "    }\n",
       "\n",
       "    .dataframe tbody tr th {\n",
       "        vertical-align: top;\n",
       "    }\n",
       "\n",
       "    .dataframe thead th {\n",
       "        text-align: right;\n",
       "    }\n",
       "</style>\n",
       "<table border=\"1\" class=\"dataframe\">\n",
       "  <thead>\n",
       "    <tr style=\"text-align: right;\">\n",
       "      <th></th>\n",
       "      <th>Movies</th>\n",
       "      <th>Horror</th>\n",
       "      <th>Thriller</th>\n",
       "      <th>Comedy</th>\n",
       "      <th>Romantic</th>\n",
       "      <th>Sci-fi</th>\n",
       "      <th>War</th>\n",
       "      <th>Fantasy/Fairy tales</th>\n",
       "      <th>Animated</th>\n",
       "      <th>Documentary</th>\n",
       "    </tr>\n",
       "    <tr>\n",
       "      <th>Gender</th>\n",
       "      <th></th>\n",
       "      <th></th>\n",
       "      <th></th>\n",
       "      <th></th>\n",
       "      <th></th>\n",
       "      <th></th>\n",
       "      <th></th>\n",
       "      <th></th>\n",
       "      <th></th>\n",
       "      <th></th>\n",
       "    </tr>\n",
       "  </thead>\n",
       "  <tbody>\n",
       "    <tr>\n",
       "      <td>1</td>\n",
       "      <td>4.587786</td>\n",
       "      <td>3.061069</td>\n",
       "      <td>3.661578</td>\n",
       "      <td>4.483461</td>\n",
       "      <td>2.847328</td>\n",
       "      <td>3.615776</td>\n",
       "      <td>3.824427</td>\n",
       "      <td>3.340967</td>\n",
       "      <td>3.503817</td>\n",
       "      <td>3.809160</td>\n",
       "    </tr>\n",
       "    <tr>\n",
       "      <td>2</td>\n",
       "      <td>4.621343</td>\n",
       "      <td>2.600688</td>\n",
       "      <td>3.187608</td>\n",
       "      <td>4.509466</td>\n",
       "      <td>3.929432</td>\n",
       "      <td>2.771084</td>\n",
       "      <td>2.681583</td>\n",
       "      <td>4.030981</td>\n",
       "      <td>3.969019</td>\n",
       "      <td>3.528399</td>\n",
       "    </tr>\n",
       "  </tbody>\n",
       "</table>\n",
       "</div>"
      ],
      "text/plain": [
       "          Movies    Horror  Thriller    Comedy  Romantic    Sci-fi       War  \\\n",
       "Gender                                                                         \n",
       "1       4.587786  3.061069  3.661578  4.483461  2.847328  3.615776  3.824427   \n",
       "2       4.621343  2.600688  3.187608  4.509466  3.929432  2.771084  2.681583   \n",
       "\n",
       "        Fantasy/Fairy tales  Animated  Documentary  \n",
       "Gender                                              \n",
       "1                  3.340967  3.503817     3.809160  \n",
       "2                  4.030981  3.969019     3.528399  "
      ]
     },
     "execution_count": 104,
     "metadata": {},
     "output_type": "execute_result"
    }
   ],
   "source": [
    "data_mov.iloc[:, 0:10].groupby(data_mov['Gender']).mean()"
   ]
  },
  {
   "cell_type": "markdown",
   "metadata": {},
   "source": [
    "## Gépi tanulás alkalmazása"
   ]
  },
  {
   "cell_type": "code",
   "execution_count": 37,
   "metadata": {},
   "outputs": [],
   "source": [
    "model_vars = data_mov.drop(columns = 'Gender')\n",
    "target = data_mov.iloc[:, -1]"
   ]
  },
  {
   "cell_type": "code",
   "execution_count": 38,
   "metadata": {},
   "outputs": [],
   "source": [
    "x_train, x_test, y_train, y_test = train_test_split(model_vars, target, test_size=0.3, random_state=1)"
   ]
  },
  {
   "cell_type": "code",
   "execution_count": 118,
   "metadata": {},
   "outputs": [
    {
     "data": {
      "text/plain": [
       "(686, 294)"
      ]
     },
     "execution_count": 118,
     "metadata": {},
     "output_type": "execute_result"
    }
   ],
   "source": [
    "len(x_train), len(x_test)"
   ]
  },
  {
   "cell_type": "code",
   "execution_count": 39,
   "metadata": {
    "code_folding": []
   },
   "outputs": [
    {
     "name": "stdout",
     "output_type": "stream",
     "text": [
      "Confusion Matrix :\n",
      "[[ 93  26]\n",
      " [ 34 141]]\n",
      "Accuracy Score : 0.7959183673469388\n",
      "Matthews corcoef : 0.5818865836085587\n",
      "Recall Score : 0.7815126050420168\n",
      "F1 Score: 0.7903294822421909\n",
      "Precision: 0.788297420906219\n",
      "ROC_AUC: 0.7936134453781513\n"
     ]
    }
   ],
   "source": [
    "# Log. reg. algoritmus\n",
    "\n",
    "predicted_var = y_train\n",
    "\n",
    "\n",
    "model = LogisticRegression(max_iter = 1000)\n",
    "model.fit(x_train, predicted_var)\n",
    "\n",
    "predictions = model.predict(x_test)\n",
    "\n",
    "results = confusion_matrix(y_test, predictions)\n",
    "\n",
    "print('Confusion Matrix :')\n",
    "print(results) \n",
    "print('Accuracy Score :',accuracy_score(y_test, predictions))\n",
    "print('Matthews corcoef :', matthews_corrcoef(y_test, predictions))\n",
    "print('Recall Score :', recall_score(y_test, predictions))\n",
    "print('F1 Score:', f1_score(y_test, predictions, average='macro'))\n",
    "print('Precision:', precision_score(y_test, predictions, average='macro'))\n",
    "print('ROC_AUC:', roc_auc_score(y_test, predictions))"
   ]
  },
  {
   "cell_type": "code",
   "execution_count": 119,
   "metadata": {},
   "outputs": [
    {
     "data": {
      "text/plain": [
       "2    175\n",
       "1    119\n",
       "Name: Gender, dtype: int64"
      ]
     },
     "execution_count": 119,
     "metadata": {},
     "output_type": "execute_result"
    }
   ],
   "source": [
    "y_test.value_counts()"
   ]
  },
  {
   "cell_type": "code",
   "execution_count": 40,
   "metadata": {},
   "outputs": [
    {
     "data": {
      "text/plain": [
       "[(0.9495032601232561, 'Romantic'),\n",
       " (-0.5770147173515029, 'Action'),\n",
       " (-0.5083065567865432, 'War'),\n",
       " (-0.4704384508126307, 'Western'),\n",
       " (0.4260766063129754, 'Fantasy/Fairy tales'),\n",
       " (-0.39881315895683506, 'Comedy'),\n",
       " (-0.3577358216085411, 'Sci-fi'),\n",
       " (0.15789319889825384, 'Animated'),\n",
       " (0.10104705355234803, 'Thriller'),\n",
       " (0.06209479928814304, 'Documentary'),\n",
       " (-0.05854447966710079, 'Horror')]"
      ]
     },
     "execution_count": 40,
     "metadata": {},
     "output_type": "execute_result"
    }
   ],
   "source": [
    "sorted(zip(model.coef_[0], x_train.columns), key=lambda x: abs(x[0]), reverse=True)[:]"
   ]
  },
  {
   "cell_type": "code",
   "execution_count": 41,
   "metadata": {
    "code_folding": []
   },
   "outputs": [
    {
     "name": "stdout",
     "output_type": "stream",
     "text": [
      "Confusion Matrix :\n",
      "[[ 88  31]\n",
      " [ 32 143]]\n",
      "Accuracy Score : 0.7857142857142857\n",
      "Matthews corcoef : 0.555905051212425\n",
      "Recall Score : 0.7394957983193278\n",
      "F1 Score: 0.7779429571639231\n",
      "Precision: 0.786015325670498\n",
      "ROC_AUC: 0.7783193277310925\n"
     ]
    }
   ],
   "source": [
    "# Random forest\n",
    "\n",
    "predicted_var = y_train\n",
    "\n",
    "\n",
    "model = RandomForestClassifier(n_estimators = 200, max_depth = 9, random_state = 1, class_weight = 'balanced')\n",
    "# model = ExtraTreesClassifier(n_estimators = 10)\n",
    "\n",
    "model.fit(x_train, predicted_var)\n",
    "\n",
    "predictions = model.predict(x_test)\n",
    "\n",
    "results = confusion_matrix(y_test, predictions)\n",
    "\n",
    "print('Confusion Matrix :')\n",
    "print(results) \n",
    "print('Accuracy Score :',accuracy_score(y_test, predictions))\n",
    "print('Matthews corcoef :', matthews_corrcoef(y_test, predictions))\n",
    "print('Recall Score :', recall_score(y_test, predictions))\n",
    "print('F1 Score:', f1_score(y_test, predictions, average='macro'))\n",
    "print('Precision:', precision_score(y_test, predictions, average='weighted'))\n",
    "print('ROC_AUC:', roc_auc_score(y_test, predictions))"
   ]
  },
  {
   "cell_type": "code",
   "execution_count": 42,
   "metadata": {},
   "outputs": [],
   "source": [
    "importances = model.feature_importances_\n",
    "df_importance =pd.DataFrame()\n",
    "df_importance['imp'] = importances\n",
    "df_importance['colnames'] = x_train.columns"
   ]
  },
  {
   "cell_type": "code",
   "execution_count": 43,
   "metadata": {},
   "outputs": [
    {
     "data": {
      "text/html": [
       "<div>\n",
       "<style scoped>\n",
       "    .dataframe tbody tr th:only-of-type {\n",
       "        vertical-align: middle;\n",
       "    }\n",
       "\n",
       "    .dataframe tbody tr th {\n",
       "        vertical-align: top;\n",
       "    }\n",
       "\n",
       "    .dataframe thead th {\n",
       "        text-align: right;\n",
       "    }\n",
       "</style>\n",
       "<table border=\"1\" class=\"dataframe\">\n",
       "  <thead>\n",
       "    <tr style=\"text-align: right;\">\n",
       "      <th></th>\n",
       "      <th>imp</th>\n",
       "      <th>colnames</th>\n",
       "    </tr>\n",
       "  </thead>\n",
       "  <tbody>\n",
       "    <tr>\n",
       "      <th>3</th>\n",
       "      <td>0.179813</td>\n",
       "      <td>Romantic</td>\n",
       "    </tr>\n",
       "    <tr>\n",
       "      <th>10</th>\n",
       "      <td>0.134886</td>\n",
       "      <td>Action</td>\n",
       "    </tr>\n",
       "    <tr>\n",
       "      <th>5</th>\n",
       "      <td>0.134049</td>\n",
       "      <td>War</td>\n",
       "    </tr>\n",
       "    <tr>\n",
       "      <th>9</th>\n",
       "      <td>0.105694</td>\n",
       "      <td>Western</td>\n",
       "    </tr>\n",
       "    <tr>\n",
       "      <th>4</th>\n",
       "      <td>0.091491</td>\n",
       "      <td>Sci-fi</td>\n",
       "    </tr>\n",
       "    <tr>\n",
       "      <th>6</th>\n",
       "      <td>0.081750</td>\n",
       "      <td>Fantasy/Fairy tales</td>\n",
       "    </tr>\n",
       "    <tr>\n",
       "      <th>0</th>\n",
       "      <td>0.062538</td>\n",
       "      <td>Horror</td>\n",
       "    </tr>\n",
       "    <tr>\n",
       "      <th>1</th>\n",
       "      <td>0.059711</td>\n",
       "      <td>Thriller</td>\n",
       "    </tr>\n",
       "    <tr>\n",
       "      <th>7</th>\n",
       "      <td>0.059454</td>\n",
       "      <td>Animated</td>\n",
       "    </tr>\n",
       "    <tr>\n",
       "      <th>8</th>\n",
       "      <td>0.051249</td>\n",
       "      <td>Documentary</td>\n",
       "    </tr>\n",
       "  </tbody>\n",
       "</table>\n",
       "</div>"
      ],
      "text/plain": [
       "         imp             colnames\n",
       "3   0.179813             Romantic\n",
       "10  0.134886               Action\n",
       "5   0.134049                  War\n",
       "9   0.105694              Western\n",
       "4   0.091491               Sci-fi\n",
       "6   0.081750  Fantasy/Fairy tales\n",
       "0   0.062538               Horror\n",
       "1   0.059711             Thriller\n",
       "7   0.059454             Animated\n",
       "8   0.051249          Documentary"
      ]
     },
     "execution_count": 43,
     "metadata": {},
     "output_type": "execute_result"
    }
   ],
   "source": [
    "df_importance.sort_values(by=['imp'], ascending = False).head(10)"
   ]
  },
  {
   "cell_type": "code",
   "execution_count": 44,
   "metadata": {
    "code_folding": [
     0
    ]
   },
   "outputs": [
    {
     "name": "stdout",
     "output_type": "stream",
     "text": [
      "Confusion Matrix :\n",
      "[[ 90  29]\n",
      " [ 33 142]]\n",
      "Accuracy Score : 0.7891156462585034\n",
      "Matthews corcoef : 0.5649169083082547\n",
      "Recall Score : 0.7563025210084033\n",
      "F1 Score: 0.7823054507237376\n",
      "Precision: 0.7904585311517275\n"
     ]
    }
   ],
   "source": [
    "# XG Boost\n",
    "\n",
    "predicted_var = y_train\n",
    "\n",
    "\n",
    "model = GradientBoostingClassifier(n_estimators=100, learning_rate = 0.1, \n",
    "                                   max_features = None, max_depth = 4, random_state = 0)\n",
    "\n",
    "model.fit(x_train, predicted_var)\n",
    "\n",
    "\n",
    "pred_raw = model.predict(x_test)\n",
    "predictions = model.predict(x_test).round()\n",
    "\n",
    "results = confusion_matrix(y_test, predictions)\n",
    "\n",
    "print('Confusion Matrix :')\n",
    "print(results) \n",
    "print('Accuracy Score :',accuracy_score(y_test, pred_raw))\n",
    "print('Matthews corcoef :', matthews_corrcoef(y_test, predictions))\n",
    "print('Recall Score :', recall_score(y_test, predictions))\n",
    "print('F1 Score:', f1_score(y_test, predictions, average='macro'))\n",
    "print('Precision:', precision_score(y_test, predictions, average='weighted'))"
   ]
  },
  {
   "cell_type": "code",
   "execution_count": 103,
   "metadata": {
    "code_folding": []
   },
   "outputs": [
    {
     "name": "stdout",
     "output_type": "stream",
     "text": [
      "Confusion Matrix :\n",
      "[[ 92  27]\n",
      " [ 32 143]]\n",
      "Accuracy Score : 0.7993197278911565\n",
      "Matthews corcoef : 0.5866711652575564\n",
      "Recall Score : 0.773109243697479\n",
      "F1 Score: 0.7930935766684558\n",
      "Precision: 0.8010074997741032\n"
     ]
    }
   ],
   "source": [
    "# SVM\n",
    "\n",
    "predicted_var = y_train\n",
    "\n",
    "model = svm.SVC(kernel='linear')\n",
    "\n",
    "model.fit(x_train, predicted_var)\n",
    "\n",
    "\n",
    "pred_raw = model.predict(x_test)\n",
    "predictions = model.predict(x_test).round()\n",
    "\n",
    "results = confusion_matrix(y_test, predictions)\n",
    "\n",
    "print('Confusion Matrix :')\n",
    "print(results) \n",
    "print('Accuracy Score :',accuracy_score(y_test, pred_raw))\n",
    "print('Matthews corcoef :', matthews_corrcoef(y_test, predictions))\n",
    "print('Recall Score :', recall_score(y_test, predictions))\n",
    "print('F1 Score:', f1_score(y_test, predictions, average='macro'))\n",
    "print('Precision:', precision_score(y_test, predictions, average='weighted'))"
   ]
  }
 ],
 "metadata": {
  "kernelspec": {
   "display_name": "Python 3",
   "language": "python",
   "name": "python3"
  },
  "language_info": {
   "codemirror_mode": {
    "name": "ipython",
    "version": 3
   },
   "file_extension": ".py",
   "mimetype": "text/x-python",
   "name": "python",
   "nbconvert_exporter": "python",
   "pygments_lexer": "ipython3",
   "version": "3.7.6"
  }
 },
 "nbformat": 4,
 "nbformat_minor": 4
}
